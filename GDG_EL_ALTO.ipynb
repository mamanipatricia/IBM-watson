{
  "nbformat": 4,
  "nbformat_minor": 0,
  "metadata": {
    "colab": {
      "name": "GDG-EL_ALTO.ipynb",
      "provenance": [],
      "toc_visible": true,
      "include_colab_link": true
    },
    "kernelspec": {
      "display_name": "Python 3",
      "language": "python",
      "name": "python3"
    },
    "language_info": {
      "codemirror_mode": {
        "name": "ipython",
        "version": 3
      },
      "file_extension": ".py",
      "mimetype": "text/x-python",
      "name": "python",
      "nbconvert_exporter": "python",
      "pygments_lexer": "ipython3",
      "version": "3.6.8"
    }
  },
  "cells": [
    {
      "cell_type": "markdown",
      "metadata": {
        "id": "view-in-github",
        "colab_type": "text"
      },
      "source": [
        "<a href=\"https://colab.research.google.com/github/cechus/cechus.github.io/blob/master/GDG_EL_ALTO.ipynb\" target=\"_parent\"><img src=\"https://colab.research.google.com/assets/colab-badge.svg\" alt=\"Open In Colab\"/></a>"
      ]
    },
    {
      "cell_type": "markdown",
      "metadata": {
        "id": "UnMj9jzkqJcQ",
        "colab_type": "text"
      },
      "source": [
        "# IBM WATSON NATURAL LANGUAGE UNDERSTANDING\n"
      ]
    },
    {
      "cell_type": "code",
      "metadata": {
        "colab_type": "code",
        "id": "E0QNLNgms1oQ",
        "outputId": "a7ca39d5-2689-4710-dd4e-629f9098a39b",
        "colab": {
          "base_uri": "https://localhost:8080/",
          "height": 235
        }
      },
      "source": [
        "!pip install --upgrade \"ibm-watson>=4.1.0\""
      ],
      "execution_count": 97,
      "outputs": [
        {
          "output_type": "stream",
          "text": [
            "Requirement already up-to-date: ibm-watson>=4.1.0 in /usr/local/lib/python3.6/dist-packages (4.4.0)\n",
            "Requirement already satisfied, skipping upgrade: websocket-client==0.48.0 in /usr/local/lib/python3.6/dist-packages (from ibm-watson>=4.1.0) (0.48.0)\n",
            "Requirement already satisfied, skipping upgrade: python-dateutil>=2.5.3 in /usr/local/lib/python3.6/dist-packages (from ibm-watson>=4.1.0) (2.8.1)\n",
            "Requirement already satisfied, skipping upgrade: requests<3.0,>=2.0 in /usr/local/lib/python3.6/dist-packages (from ibm-watson>=4.1.0) (2.21.0)\n",
            "Requirement already satisfied, skipping upgrade: ibm-cloud-sdk-core==1.5.1 in /usr/local/lib/python3.6/dist-packages (from ibm-watson>=4.1.0) (1.5.1)\n",
            "Requirement already satisfied, skipping upgrade: six in /usr/local/lib/python3.6/dist-packages (from websocket-client==0.48.0->ibm-watson>=4.1.0) (1.12.0)\n",
            "Requirement already satisfied, skipping upgrade: chardet<3.1.0,>=3.0.2 in /usr/local/lib/python3.6/dist-packages (from requests<3.0,>=2.0->ibm-watson>=4.1.0) (3.0.4)\n",
            "Requirement already satisfied, skipping upgrade: urllib3<1.25,>=1.21.1 in /usr/local/lib/python3.6/dist-packages (from requests<3.0,>=2.0->ibm-watson>=4.1.0) (1.24.3)\n",
            "Requirement already satisfied, skipping upgrade: idna<2.9,>=2.5 in /usr/local/lib/python3.6/dist-packages (from requests<3.0,>=2.0->ibm-watson>=4.1.0) (2.8)\n",
            "Requirement already satisfied, skipping upgrade: certifi>=2017.4.17 in /usr/local/lib/python3.6/dist-packages (from requests<3.0,>=2.0->ibm-watson>=4.1.0) (2020.4.5.1)\n",
            "Requirement already satisfied, skipping upgrade: PyJWT>=1.7.1 in /usr/local/lib/python3.6/dist-packages (from ibm-cloud-sdk-core==1.5.1->ibm-watson>=4.1.0) (1.7.1)\n"
          ],
          "name": "stdout"
        }
      ]
    },
    {
      "cell_type": "code",
      "metadata": {
        "colab_type": "code",
        "id": "WgDwk6CXt8xM",
        "colab": {}
      },
      "source": [
        "import pandas as pd\n",
        "import pickle"
      ],
      "execution_count": 0,
      "outputs": []
    },
    {
      "cell_type": "markdown",
      "metadata": {
        "id": "M3_kLca8tyFp",
        "colab_type": "text"
      },
      "source": [
        "### Se importa el archivo pickle con los textos a clasificar"
      ]
    },
    {
      "cell_type": "code",
      "metadata": {
        "colab_type": "code",
        "id": "sv9LAS7-t82l",
        "outputId": "62dc15b2-dcbd-482a-e8c0-0d4ea94ca0fe",
        "colab": {
          "base_uri": "https://localhost:8080/",
          "height": 354
        }
      },
      "source": [
        "normas = pickle.load(open(\"pdf_preprocesado.pkl\",\"rb\"))\n",
        "# indices = list(normas.index.values.astype(\"int\"))\n",
        "normas.head(6)"
      ],
      "execution_count": 99,
      "outputs": [
        {
          "output_type": "execute_result",
          "data": {
            "text/html": [
              "<div>\n",
              "<style scoped>\n",
              "    .dataframe tbody tr th:only-of-type {\n",
              "        vertical-align: middle;\n",
              "    }\n",
              "\n",
              "    .dataframe tbody tr th {\n",
              "        vertical-align: top;\n",
              "    }\n",
              "\n",
              "    .dataframe thead th {\n",
              "        text-align: right;\n",
              "    }\n",
              "</style>\n",
              "<table border=\"1\" class=\"dataframe\">\n",
              "  <thead>\n",
              "    <tr style=\"text-align: right;\">\n",
              "      <th></th>\n",
              "      <th>objeto_lemma</th>\n",
              "      <th>archivo</th>\n",
              "      <th>pagina</th>\n",
              "      <th>OBJETO</th>\n",
              "      <th>NROTOPIC</th>\n",
              "    </tr>\n",
              "  </thead>\n",
              "  <tbody>\n",
              "    <tr>\n",
              "      <th>0</th>\n",
              "      <td>[legislativa, periodo, legislativo, ley, dicie...</td>\n",
              "      <td>0.pdf</td>\n",
              "      <td>0</td>\n",
              "      <td>asamblea legislativa departamental pando perio...</td>\n",
              "      <td>NaN</td>\n",
              "    </tr>\n",
              "    <tr>\n",
              "      <th>1</th>\n",
              "      <td>[legislativa, periodo, legislativo, pdo, cruz,...</td>\n",
              "      <td>0.pdf</td>\n",
              "      <td>1</td>\n",
              "      <td>asamblea legislativa departamental pando perio...</td>\n",
              "      <td>NaN</td>\n",
              "    </tr>\n",
              "    <tr>\n",
              "      <th>2</th>\n",
              "      <td>[legislativa, periodo, legislativo, delgado, p...</td>\n",
              "      <td>0.pdf</td>\n",
              "      <td>2</td>\n",
              "      <td>legislativa asamblea departamental pando perio...</td>\n",
              "      <td>NaN</td>\n",
              "    </tr>\n",
              "    <tr>\n",
              "      <th>3</th>\n",
              "      <td>[legislativa, periodo, legislativo, nadia, pdo...</td>\n",
              "      <td>0.pdf</td>\n",
              "      <td>3</td>\n",
              "      <td>asamblea legislativa departamental pando perio...</td>\n",
              "      <td>NaN</td>\n",
              "    </tr>\n",
              "    <tr>\n",
              "      <th>4</th>\n",
              "      <td>[ley, cuanto, uso, especificas, atribuciones, ...</td>\n",
              "      <td>1.pdf</td>\n",
              "      <td>0</td>\n",
              "      <td>oeparta slatiha asamбlea dерartamcntal oruro l...</td>\n",
              "      <td>NaN</td>\n",
              "    </tr>\n",
              "    <tr>\n",
              "      <th>5</th>\n",
              "      <td>[gobierno, legislativa, ley, ley, agosto, ley,...</td>\n",
              "      <td>10.pdf</td>\n",
              "      <td>0</td>\n",
              "      <td>gobierno autonomo departamental cochabamba asa...</td>\n",
              "      <td>NaN</td>\n",
              "    </tr>\n",
              "  </tbody>\n",
              "</table>\n",
              "</div>"
            ],
            "text/plain": [
              "                                        objeto_lemma  ... NROTOPIC\n",
              "0  [legislativa, periodo, legislativo, ley, dicie...  ...      NaN\n",
              "1  [legislativa, periodo, legislativo, pdo, cruz,...  ...      NaN\n",
              "2  [legislativa, periodo, legislativo, delgado, p...  ...      NaN\n",
              "3  [legislativa, periodo, legislativo, nadia, pdo...  ...      NaN\n",
              "4  [ley, cuanto, uso, especificas, atribuciones, ...  ...      NaN\n",
              "5  [gobierno, legislativa, ley, ley, agosto, ley,...  ...      NaN\n",
              "\n",
              "[6 rows x 5 columns]"
            ]
          },
          "metadata": {
            "tags": []
          },
          "execution_count": 99
        }
      ]
    },
    {
      "cell_type": "code",
      "metadata": {
        "id": "r5cMjdCTkB8G",
        "colab_type": "code",
        "colab": {
          "base_uri": "https://localhost:8080/",
          "height": 1000
        },
        "outputId": "d81ecade-1e0d-4bd3-e540-9b845a810067"
      },
      "source": [
        "normas['objeto_lemma'][0]\n"
      ],
      "execution_count": 100,
      "outputs": [
        {
          "output_type": "execute_result",
          "data": {
            "text/plain": [
              "['legislativa',\n",
              " 'periodo',\n",
              " 'legislativo',\n",
              " 'ley',\n",
              " 'diciembre',\n",
              " 'adolfo',\n",
              " 'cuanto',\n",
              " 'legislativa',\n",
              " 'sancionado',\n",
              " 'siguiente',\n",
              " 'ley',\n",
              " 'ley',\n",
              " 'enmendar',\n",
              " 'ley',\n",
              " 'junio',\n",
              " 'enmendar',\n",
              " 'primero',\n",
              " 'ley',\n",
              " 'junio',\n",
              " 'deber',\n",
              " 'quedar',\n",
              " 'siguiente',\n",
              " 'manera',\n",
              " 'conformidad',\n",
              " 'establecido',\n",
              " 'paragrafo',\n",
              " 'numeral',\n",
              " 'estatuto',\n",
              " 'dispuesto',\n",
              " 'ley',\n",
              " 'decreto',\n",
              " 'mts',\n",
              " 'distribuidos',\n",
              " 'lotes',\n",
              " 'terreno',\n",
              " 'insertos',\n",
              " 'mts',\n",
              " 'zona',\n",
              " 'paz',\n",
              " 'propiedad',\n",
              " 'gobierno',\n",
              " 'registradas',\n",
              " 'bajar',\n",
              " 'matricula',\n",
              " 'favor',\n",
              " 'siguientes',\n",
              " 'beneficiarios',\n",
              " 'aprobar',\n",
              " 'titulo',\n",
              " 'superficie',\n",
              " 'superficie',\n",
              " 'total',\n",
              " 'derechos',\n",
              " 'reales',\n",
              " 'superficie',\n",
              " 'marcelo',\n",
              " 'luisa',\n",
              " 'pdo',\n",
              " 'cristhian',\n",
              " 'pena',\n",
              " 'pdo',\n",
              " 'pdo',\n",
              " 'tatiana',\n",
              " 'judith',\n",
              " 'cardona',\n",
              " 'pdo',\n",
              " 'zelada',\n",
              " 'pdo',\n",
              " 'alvarado',\n",
              " 'febrero']"
            ]
          },
          "metadata": {
            "tags": []
          },
          "execution_count": 100
        }
      ]
    },
    {
      "cell_type": "code",
      "metadata": {
        "id": "kNtHt4dHkmPx",
        "colab_type": "code",
        "colab": {
          "base_uri": "https://localhost:8080/",
          "height": 1000
        },
        "outputId": "b5ae7a4d-a858-465d-e773-e8a246228ddb"
      },
      "source": [
        "normas['objeto_lemma'][10]\n"
      ],
      "execution_count": 101,
      "outputs": [
        {
          "output_type": "execute_result",
          "data": {
            "text/plain": [
              "['decreto',\n",
              " 'gonzales',\n",
              " 'bernal',\n",
              " 'constitucional',\n",
              " 'potosi',\n",
              " 'considerando',\n",
              " 'determinar',\n",
              " 'competencias',\n",
              " 'exclusivas',\n",
              " 'gobiernos',\n",
              " 'departamentales',\n",
              " 'dirigido',\n",
              " 'autoridad',\n",
              " 'ley',\n",
              " 'mayo',\n",
              " 'art',\n",
              " 'disponer',\n",
              " 'gobiernos',\n",
              " 'departamentales',\n",
              " 'estructura',\n",
              " 'administrativa',\n",
              " 'conformar',\n",
              " 'sistemas',\n",
              " 'ley',\n",
              " 'julio',\n",
              " 'control',\n",
              " 'gubernamentales',\n",
              " 'disposiciones',\n",
              " 'concordantes',\n",
              " 'igual',\n",
              " 'forma',\n",
              " 'art',\n",
              " 'disponer',\n",
              " 'transferencia',\n",
              " 'gobiernos',\n",
              " 'departamentales',\n",
              " 'derechos',\n",
              " 'obligaciones',\n",
              " 'donaciones',\n",
              " 'recursos',\n",
              " 'financieros',\n",
              " 'financieros',\n",
              " 'patrimonio',\n",
              " 'activos',\n",
              " 'pasivos',\n",
              " 'prefecturas',\n",
              " 'departamentales',\n",
              " 'conformidad',\n",
              " 'establecido',\n",
              " 'art',\n",
              " 'ley',\n",
              " 'concordante',\n",
              " 'reglamento',\n",
              " 'empresas',\n",
              " 'operadoras',\n",
              " 'turismo',\n",
              " 'receptivo',\n",
              " 'empresas',\n",
              " 'viajes',\n",
              " 'turismo',\n",
              " 'empresas',\n",
              " 'operadoras',\n",
              " 'turismo',\n",
              " 'receptivo',\n",
              " 'disponer',\n",
              " 'vez',\n",
              " 'art',\n",
              " 'facultad',\n",
              " 'autorizar',\n",
              " 'inscripcion',\n",
              " 'registro',\n",
              " 'turismo',\n",
              " 'acuerdo',\n",
              " 'informe',\n",
              " 'turismo',\n",
              " 'receptivo',\n",
              " 'cumplir',\n",
              " 'requisitos',\n",
              " 'exigidos',\n",
              " 'art',\n",
              " 'ley',\n",
              " 'mediante',\n",
              " 'cite',\n",
              " 'turismo',\n",
              " 'cultura',\n",
              " 'solicitar',\n",
              " 'decreto',\n",
              " 'autorizar',\n",
              " 'inscripcion',\n",
              " 'registro',\n",
              " 'otorgamiento',\n",
              " 'licencia',\n",
              " 'funcionamiento',\n",
              " 'aprobacion',\n",
              " 'plan',\n",
              " 'estrategico',\n",
              " 'trabajo',\n",
              " 'desarrollar',\n",
              " 'turismo',\n",
              " 'receptivo',\n",
              " 'cuya',\n",
              " 'social',\n",
              " 'tours',\n",
              " 'autoridad',\n",
              " 'gobierno',\n",
              " 'potosi',\n",
              " 'emitir',\n",
              " 'decreto',\n",
              " 'correspondiente',\n",
              " 'decreta',\n",
              " 'primero',\n",
              " 'autorizar',\n",
              " 'inscripcion',\n",
              " 'registro',\n",
              " 'consiguiente',\n",
              " 'licencia',\n",
              " 'funcionamiento',\n",
              " 'aprobacion',\n",
              " 'plan',\n",
              " 'estrategico',\n",
              " 'trabajo',\n",
              " 'turismo',\n",
              " 'receptivo',\n",
              " 'tours',\n",
              " 'domcilio',\n",
              " 'legal',\n",
              " 'avenida',\n",
              " 'potosi',\n",
              " 'siendo',\n",
              " 'legitimo',\n",
              " 'carlo']"
            ]
          },
          "metadata": {
            "tags": []
          },
          "execution_count": 101
        }
      ]
    },
    {
      "cell_type": "markdown",
      "metadata": {
        "id": "dfF_Bk3UtyFw",
        "colab_type": "text"
      },
      "source": [
        "### Autenticación para el uso del modelo de Watson"
      ]
    },
    {
      "cell_type": "code",
      "metadata": {
        "colab_type": "code",
        "id": "bOEzsYH-t85O",
        "colab": {}
      },
      "source": [
        "from ibm_watson import NaturalLanguageUnderstandingV1\n",
        "from ibm_cloud_sdk_core.authenticators import IAMAuthenticator\n",
        "from ibm_watson.natural_language_understanding_v1 import Features,CategoriesOptions,KeywordsOptions\n",
        "import json\n",
        "\n",
        "authenticator =                                                                                       IAMAuthenticator(\"BF6nMz8cEHwEoBqSC1LUwlmjGsDYAQ6LpvpaqRo4dQhO\")\n",
        "natural_language_understanding = NaturalLanguageUnderstandingV1(\n",
        "    version='2019-07-12',\n",
        "    authenticator=authenticator\n",
        ")\n",
        "natural_language_understanding.set_service_url(\"https://api.us-south.natural-language-understanding.watson.cloud.ibm.com/instances/923af3f4-8bf2-47d5-a0a8-2840d9064a22\")"
      ],
      "execution_count": 0,
      "outputs": []
    },
    {
      "cell_type": "code",
      "metadata": {
        "id": "Ykwyg-kGtyF5",
        "colab_type": "code",
        "outputId": "581356a2-c901-472f-db40-5abd03841e81",
        "colab": {
          "base_uri": "https://localhost:8080/",
          "height": 35
        }
      },
      "source": [
        "normas.shape[0]"
      ],
      "execution_count": 103,
      "outputs": [
        {
          "output_type": "execute_result",
          "data": {
            "text/plain": [
              "78532"
            ]
          },
          "metadata": {
            "tags": []
          },
          "execution_count": 103
        }
      ]
    },
    {
      "cell_type": "markdown",
      "metadata": {
        "id": "yi2b-l0ityGA",
        "colab_type": "text"
      },
      "source": [
        "### Generación del objeto respuesta con las categorias y keywords(textos relevantes) del modelo de Watson"
      ]
    },
    {
      "cell_type": "code",
      "metadata": {
        "colab_type": "code",
        "id": "hVKqtlD5t88F",
        "outputId": "86bed08a-2a68-40bf-d007-3a78002cb411",
        "colab": {
          "base_uri": "https://localhost:8080/",
          "height": 1000
        }
      },
      "source": [
        "from ibm_watson import ApiException\n",
        "\n",
        "watson75 = pd.DataFrame(columns=[\"output_watson\"])\n",
        "indice = 0\n",
        "# limitNormas = normas.shape[0]\n",
        "limitNormas = 100 \n",
        "while(indice < limitNormas):\n",
        "    \n",
        "    try:\n",
        "        for i in range(indice, limitNormas):\n",
        "            text=normas[\"OBJETO\"][i]\n",
        "            response = natural_language_understanding.analyze(\n",
        "                text=text,\n",
        "                features=Features(\n",
        "                categories=CategoriesOptions(limit=3),\n",
        "        #             entities=EntitiesOptions(emotion=True, sentiment=True, limit=2),\n",
        "                keywords=KeywordsOptions(emotion=True, sentiment=True, limit=3)),language=\"es\").get_result()\n",
        "\n",
        "            lista_general = []\n",
        "            lista_keywords = []\n",
        "            lista_categories =  []\n",
        "\n",
        "            for keyword in response[\"keywords\"]:\n",
        "                text = keyword[\"text\"]\n",
        "                relevance = keyword[\"relevance\"]\n",
        "                lista_keywords.append(tuple((text+\",\"+str(relevance)).split(\",\")))\n",
        "\n",
        "            for category in response[\"categories\"]:\n",
        "                lista_categories.append(category)\n",
        "\n",
        "            lista_general.append(lista_keywords)\n",
        "            lista_general.append(lista_categories)\n",
        "            print(\"\\n\", \"nro: \", i)\n",
        "            print(\"\\n\", response)\n",
        "\n",
        "            watson75 = watson75.append({\"output_watson\":lista_general}, ignore_index=True)\n",
        "\n",
        "    except ApiException as ex:\n",
        "        watson75 = watson75.append({\"output_watson\": \"error\"}, ignore_index=True)\n",
        "        print(\"\\n\", \"nro----------------->\", i)\n",
        "        indice = i+1\n",
        "        print(\"\\n\", \"indice----------------->\", indice)\n",
        "        pass\n",
        "\n",
        "    finally:\n",
        "        print(\"The 'try except' is finished\")\n",
        "        indice = i + 1\n",
        "\n",
        "# Envía un mensaje"
      ],
      "execution_count": 104,
      "outputs": [
        {
          "output_type": "stream",
          "text": [
            "\n",
            " nro:  0\n",
            "\n",
            " {'usage': {'text_units': 1, 'text_characters': 1237, 'features': 2}, 'language': 'es', 'keywords': [{'text': 'ley departamental', 'sentiment': {'score': 0, 'label': 'neutral'}, 'relevance': 0.813381, 'count': 2}, {'text': 'ley ley departamental', 'sentiment': {'score': 0, 'label': 'neutral'}, 'relevance': 0.660806, 'count': 1}, {'text': 'periodo legislativo', 'sentiment': {'score': 0, 'label': 'neutral'}, 'relevance': 0.631729, 'count': 1}], 'categories': [{'score': 0.85222, 'label': '/law, govt and politics/government'}, {'score': 0.845941, 'label': '/law, govt and politics/government/legislative'}, {'score': 0.729781, 'label': '/law, govt and politics/government/parliament'}]}\n",
            "\n",
            " nro:  1\n",
            "\n",
            " {'usage': {'text_units': 1, 'text_characters': 782, 'features': 2}, 'language': 'es', 'keywords': [{'text': 'сoii pdo', 'sentiment': {'score': 0, 'label': 'neutral'}, 'relevance': 0.980721, 'count': 1}, {'text': 'caraica cruz pdo', 'sentiment': {'score': 0, 'label': 'neutral'}, 'relevance': 0.842487, 'count': 1}, {'text': 'choque pdo', 'sentiment': {'score': 0, 'label': 'neutral'}, 'relevance': 0.711941, 'count': 1}], 'categories': [{'score': 0.601802, 'label': '/food and drink/cuisines/italian cuisine'}, {'score': 0.56988, 'label': '/food and drink/food/grains and pasta'}, {'score': 0.53368, 'label': '/health and fitness/aging'}]}\n",
            "\n",
            " nro:  2\n",
            "\n",
            " {'usage': {'text_units': 1, 'text_characters': 859, 'features': 2}, 'language': 'es', 'keywords': [{'text': 'periodo legislativo', 'sentiment': {'score': 0.704183, 'label': 'positive'}, 'relevance': 0.750469, 'count': 1}, {'text': 'ruiz pdo jose', 'sentiment': {'score': 0.704183, 'label': 'positive'}, 'relevance': 0.637477, 'count': 1}, {'text': 'pdo juan jose oliveira moreno', 'sentiment': {'score': 0.704183, 'label': 'positive'}, 'relevance': 0.587282, 'count': 1}], 'categories': [{'score': 0.643948, 'label': '/law, govt and politics/government/legislative'}, {'score': 0.593853, 'label': '/food and drink/cuisines/italian cuisine'}, {'score': 0.576349, 'label': '/food and drink/food/grains and pasta'}]}\n",
            "\n",
            " nro:  3\n",
            "\n",
            " {'usage': {'text_units': 1, 'text_characters': 880, 'features': 2}, 'language': 'es', 'keywords': [{'text': 'ley departamental', 'sentiment': {'score': 0.905968, 'label': 'positive'}, 'relevance': 0.682701, 'count': 2}, {'text': 'reque richter', 'sentiment': {'score': 0.905968, 'label': 'positive'}, 'relevance': 0.561937, 'count': 1}, {'text': 'cumplase dado', 'sentiment': {'score': 0.905968, 'label': 'positive'}, 'relevance': 0.556711, 'count': 1}], 'categories': [{'score': 0.778387, 'label': '/law, govt and politics/government/legislative'}, {'score': 0.60318, 'label': '/law, govt and politics/government/courts and judiciary'}, {'score': 0.590916, 'label': '/law, govt and politics/government/parliament'}]}\n",
            "\n",
            " nro:  4\n",
            "\n",
            " {'usage': {'text_units': 1, 'text_characters': 1638, 'features': 2}, 'language': 'es', 'keywords': [{'text': 'asamblea departamental', 'sentiment': {'score': -0.64094, 'label': 'negative'}, 'relevance': 0.856385, 'count': 1}, {'text': 'ley departamental', 'sentiment': {'score': -0.64094, 'label': 'negative'}, 'relevance': 0.718761, 'count': 1}, {'text': 'dерartamcntal oruro', 'sentiment': {'score': -0.64094, 'label': 'negative'}, 'relevance': 0.6749, 'count': 1}], 'categories': [{'score': 0.67217, 'label': '/law, govt and politics'}, {'score': 0.658396, 'label': '/law, govt and politics/government'}, {'score': 0.644163, 'label': '/law, govt and politics/politics'}]}\n",
            "\n",
            " nro:  5\n",
            "\n",
            " {'usage': {'text_units': 1, 'text_characters': 1581, 'features': 2}, 'language': 'es', 'keywords': [{'text': 'valle alto', 'sentiment': {'score': -0.878186, 'label': 'negative'}, 'relevance': 0.786352, 'count': 3}, {'text': 'modificacion presupuestaria', 'sentiment': {'score': -0.878186, 'label': 'negative'}, 'relevance': 0.712358, 'count': 2}, {'text': 'ley departamental', 'sentiment': {'score': -0.878186, 'label': 'negative'}, 'relevance': 0.696312, 'count': 1}], 'categories': [{'score': 0.925316, 'label': '/business and industrial/construction'}, {'score': 0.720972, 'label': '/education/special education'}, {'score': 0.675384, 'label': '/law, govt and politics/government/legislative'}]}\n",
            "\n",
            " nro:  6\n",
            "\n",
            " {'usage': {'text_units': 1, 'text_characters': 908, 'features': 2}, 'language': 'es', 'keywords': [{'text': 'presente ley departamental', 'sentiment': {'score': 0, 'label': 'neutral'}, 'relevance': 0.738069, 'count': 1}, {'text': 'asamblea legislativa departamental', 'sentiment': {'score': 0, 'label': 'neutral'}, 'relevance': 0.719828, 'count': 2}, {'text': 'ley departamental', 'sentiment': {'score': 0, 'label': 'neutral'}, 'relevance': 0.568448, 'count': 1}], 'categories': [{'score': 0.886286, 'label': '/law, govt and politics'}, {'score': 0.877225, 'label': '/law, govt and politics/government'}, {'score': 0.8317, 'label': '/law, govt and politics/government/parliament'}]}\n",
            "\n",
            " nro:  7\n",
            "\n",
            " {'usage': {'text_units': 1, 'text_characters': 1248, 'features': 2}, 'language': 'es', 'keywords': [{'text': 'asamblea legislativa departamental', 'sentiment': {'score': 0, 'label': 'neutral'}, 'relevance': 0.787178, 'count': 2}, {'text': 'ley departamental', 'sentiment': {'score': 0, 'label': 'neutral'}, 'relevance': 0.68267, 'count': 1}, {'text': 'amhrica ijbrr porour', 'sentiment': {'score': 0, 'label': 'neutral'}, 'relevance': 0.657972, 'count': 1}], 'categories': [{'score': 0.999368, 'label': '/finance/investing/funds'}]}\n",
            "\n",
            " nro:  8\n",
            "\n",
            " {'usage': {'text_units': 1, 'text_characters': 1445, 'features': 2}, 'language': 'es', 'keywords': [{'text': 'subtotal org', 'sentiment': {'score': 0.719612, 'label': 'positive'}, 'relevance': 0.71833, 'count': 3}, {'text': 'gobierno autonomo departamental', 'sentiment': {'score': 0.719612, 'label': 'positive'}, 'relevance': 0.716405, 'count': 1}, {'text': 'trf sisin', 'sentiment': {'score': 0.719612, 'label': 'positive'}, 'relevance': 0.712847, 'count': 3}], 'categories': [{'score': 0.626553, 'label': '/law, govt and politics/government/government contracting and procurement'}, {'score': 0.62017, 'label': '/finance/investing'}, {'score': 0.62017, 'label': '/finance/investing/beginning investing'}]}\n",
            "\n",
            " nro:  9\n",
            "\n",
            " {'usage': {'text_units': 1, 'text_characters': 261, 'features': 2}, 'language': 'es', 'keywords': [{'text': 'palacio gobernacion', 'sentiment': {'score': 0, 'label': 'neutral'}, 'relevance': 0.779718, 'count': 1}, {'text': 'novillo agultar', 'sentiment': {'score': 0, 'label': 'neutral'}, 'relevance': 0.577045, 'count': 1}, {'text': 'lcy departamental del gobierno autonomo departamental cochabamba', 'sentiment': {'score': 0, 'label': 'neutral'}, 'relevance': 0.49711, 'count': 1}], 'categories': [{'score': 0.572698, 'label': '/law, govt and politics/politics/political parties'}, {'score': 0.540509, 'label': '/society/unrest and war'}, {'score': 0.536062, 'label': '/law, govt and politics/government/heads of state'}]}\n",
            "\n",
            " nro:  10\n",
            "\n",
            " {'usage': {'text_units': 1, 'text_characters': 1990, 'features': 2}, 'language': 'es', 'keywords': [{'text': 'decreto departamental felix', 'sentiment': {'score': 0, 'label': 'neutral'}, 'relevance': 0.829535, 'count': 1}, {'text': 'gobiernos departamentales', 'sentiment': {'score': 0, 'label': 'neutral'}, 'relevance': 0.717856, 'count': 1}, {'text': 'autonomos jurisdiccion', 'sentiment': {'score': 0, 'label': 'neutral'}, 'relevance': 0.649457, 'count': 1}], 'categories': [{'score': 0.849727, 'label': '/law, govt and politics'}, {'score': 0.770399, 'label': '/travel/tourist facilities'}, {'score': 0.764784, 'label': '/style and fashion/body art'}]}\n",
            "\n",
            " nro:  11\n",
            "\n",
            " {'usage': {'text_units': 1, 'text_characters': 484, 'features': 2}, 'language': 'es', 'keywords': [{'text': 'plurinacional bolivia', 'sentiment': {'score': 0, 'label': 'neutral'}, 'relevance': 0.747419, 'count': 1}, {'text': 'gobierno autonomo departamental', 'sentiment': {'score': 0, 'label': 'neutral'}, 'relevance': 0.718157, 'count': 1}, {'text': 'turismo cultura queda', 'sentiment': {'score': 0, 'label': 'neutral'}, 'relevance': 0.625207, 'count': 1}], 'categories': [{'score': 0.777864, 'label': '/law, govt and politics'}, {'score': 0.724376, 'label': '/law, govt and politics/government/government contracting and procurement'}, {'score': 0.716204, 'label': '/law, govt and politics/politics'}]}\n",
            "\n",
            " nro:  12\n",
            "\n",
            " {'usage': {'text_units': 1, 'text_characters': 2886, 'features': 2}, 'language': 'es', 'keywords': [{'text': 'concejo municipal', 'sentiment': {'score': 0, 'label': 'neutral'}, 'relevance': 0.820638, 'count': 2}, {'text': 'montes region', 'sentiment': {'score': 0, 'label': 'neutral'}, 'relevance': 0.635468, 'count': 1}, {'text': 'ciudad villa', 'sentiment': {'score': 0, 'label': 'neutral'}, 'relevance': 0.588016, 'count': 1}], 'categories': [{'score': 0.641947, 'label': '/law, govt and politics/government'}, {'score': 0.589488, 'label': '/law, govt and politics/government/courts and judiciary'}, {'score': 0.577913, 'label': '/law, govt and politics/government/parliament'}]}\n",
            "\n",
            " nro:  13\n",
            "\n",
            " {'usage': {'text_units': 1, 'text_characters': 2527, 'features': 2}, 'language': 'es', 'keywords': [{'text': 'concejo municipal', 'sentiment': {'score': 0, 'label': 'neutral'}, 'relevance': 0.798648, 'count': 2}, {'text': 'mandato del art constituc', 'sentiment': {'score': 0, 'label': 'neutral'}, 'relevance': 0.634934, 'count': 1}, {'text': 'villa montes region', 'sentiment': {'score': 0, 'label': 'neutral'}, 'relevance': 0.606518, 'count': 1}], 'categories': [{'score': 0.564093, 'label': '/society/unrest and war'}, {'score': 0.560899, 'label': '/law, govt and politics'}, {'score': 0.559059, 'label': '/law, govt and politics/government'}]}\n",
            "\n",
            " nro:  14\n",
            "\n",
            " {'usage': {'text_units': 1, 'text_characters': 2794, 'features': 2}, 'language': 'es', 'keywords': [{'text': 'concejo municipal', 'sentiment': {'score': 0, 'label': 'neutral'}, 'relevance': 0.87294, 'count': 2}, {'text': 'chaco coусejo municipal', 'sentiment': {'score': 0, 'label': 'neutral'}, 'relevance': 0.663245, 'count': 1}, {'text': 'illa montes can', 'sentiment': {'score': 0, 'label': 'neutral'}, 'relevance': 0.608926, 'count': 1}], 'categories': [{'score': 0.945209, 'label': '/law, govt and politics/politics'}]}\n",
            "\n",
            " nro:  15\n",
            "\n",
            " {'usage': {'text_units': 1, 'text_characters': 2381, 'features': 2}, 'language': 'es', 'keywords': [{'text': 'municipal villa', 'sentiment': {'score': 0, 'label': 'neutral'}, 'relevance': 0.782556, 'count': 1}, {'text': 'autonoma del granchaco ley municipal', 'sentiment': {'score': 0, 'label': 'neutral'}, 'relevance': 0.609083, 'count': 1}, {'text': 'ciudad villa', 'sentiment': {'score': 0, 'label': 'neutral'}, 'relevance': 0.592331, 'count': 1}], 'categories': [{'score': 0.880968, 'label': '/law, govt and politics/politics'}]}\n",
            "\n",
            " nro:  16\n",
            "\n",
            " {'usage': {'text_units': 1, 'text_characters': 932, 'features': 2}, 'language': 'es', 'keywords': [{'text': 'concejo municipal', 'sentiment': {'score': 0.708176, 'label': 'positive'}, 'relevance': 0.798958, 'count': 1}, {'text': 'aco ley municipal', 'sentiment': {'score': 0.708176, 'label': 'positive'}, 'relevance': 0.594792, 'count': 1}, {'text': 'vil inifs distincionhlio', 'sentiment': {'score': 0.708176, 'label': 'positive'}, 'relevance': 0.56091, 'count': 1}], 'categories': [{'score': 0.576962, 'label': '/law, govt and politics/government/state and local government'}, {'score': 0.557691, 'label': '/automotive and vehicles/boats and watercraft'}, {'score': 0.545253, 'label': '/law, govt and politics/politics/political parties'}]}\n",
            "\n",
            " nro:  17\n",
            "\n",
            " {'usage': {'text_units': 1, 'text_characters': 818, 'features': 2}, 'language': 'es', 'keywords': [{'text': 'municipal vil', 'sentiment': {'score': 0.869761, 'label': 'positive'}, 'relevance': 0.564167, 'count': 1}, {'text': 'dil cio ciu', 'sentiment': {'score': 0.869761, 'label': 'positive'}, 'relevance': 0.558559, 'count': 1}, {'text': 'cran chaco oipal', 'sentiment': {'score': 0.869761, 'label': 'positive'}, 'relevance': 0.550907, 'count': 1}], 'categories': [{'score': 0.776716, 'label': '/sports/billiards'}]}\n",
            "\n",
            " nro:  18\n",
            "\n",
            " {'usage': {'text_units': 1, 'text_characters': 2769, 'features': 2}, 'language': 'es', 'keywords': [{'text': 'municipal villa', 'sentiment': {'score': 0, 'label': 'neutral'}, 'relevance': 0.71295, 'count': 1}, {'text': 'alcaldesa alcalde', 'sentiment': {'score': 0, 'label': 'neutral'}, 'relevance': 0.602868, 'count': 1}, {'text': 'mandato art corstiticion', 'sentiment': {'score': 0, 'label': 'neutral'}, 'relevance': 0.59931, 'count': 1}], 'categories': [{'score': 0.565762, 'label': '/law, govt and politics/government/state and local government'}, {'score': 0.533796, 'label': '/society/social institution/divorce'}, {'score': 0.529714, 'label': '/society/unrest and war'}]}\n",
            "\n",
            " nro:  19\n",
            "\n",
            " {'usage': {'text_units': 1, 'text_characters': 2400, 'features': 2}, 'language': 'es', 'keywords': [{'text': 'concejo municipal viilla', 'sentiment': {'score': 0, 'label': 'neutral'}, 'relevance': 0.75469, 'count': 1}, {'text': 'montes gran chacco', 'sentiment': {'score': 0, 'label': 'neutral'}, 'relevance': 0.621163, 'count': 1}, {'text': 'ciudad villa', 'sentiment': {'score': 0, 'label': 'neutral'}, 'relevance': 0.589122, 'count': 1}], 'categories': [{'score': 0.633256, 'label': '/law, govt and politics/government'}, {'score': 0.607096, 'label': '/law, govt and politics/government/state and local government'}, {'score': 0.577913, 'label': '/society/unrest and war'}]}\n",
            "\n",
            " nro:  20\n",
            "\n",
            " {'usage': {'text_units': 1, 'text_characters': 2298, 'features': 2}, 'language': 'es', 'keywords': [{'text': 'sonceio municipal', 'sentiment': {'score': 0, 'label': 'neutral'}, 'relevance': 0.700794, 'count': 1}, {'text': 'mandato del art constitucion', 'sentiment': {'score': 0, 'label': 'neutral'}, 'relevance': 0.599365, 'count': 1}, {'text': 'ciudad villa', 'sentiment': {'score': 0, 'label': 'neutral'}, 'relevance': 0.585829, 'count': 1}], 'categories': [{'score': 0.633721, 'label': '/society/work'}, {'score': 0.633552, 'label': '/law, govt and politics'}, {'score': 0.565307, 'label': '/law, govt and politics/government/government contracting and procurement'}]}\n",
            "\n",
            " nro:  21\n",
            "\n",
            " {'usage': {'text_units': 1, 'text_characters': 2301, 'features': 2}, 'language': 'es', 'keywords': [{'text': 'participacion control social', 'sentiment': {'score': 0, 'label': 'neutral'}, 'relevance': 0.916491, 'count': 2}, {'text': 'ley municipal', 'sentiment': {'score': 0, 'label': 'neutral'}, 'relevance': 0.70768, 'count': 2}, {'text': 'alcalde municipal', 'sentiment': {'score': 0, 'label': 'neutral'}, 'relevance': 0.686013, 'count': 1}], 'categories': [{'score': 0.92136, 'label': '/law, govt and politics/government'}, {'score': 0.763016, 'label': '/law, govt and politics/government/parliament'}, {'score': 0.754871, 'label': '/law, govt and politics/government/legislative'}]}\n",
            "\n",
            " nro:  22\n",
            "\n",
            " {'usage': {'text_units': 1, 'text_characters': 1369, 'features': 2}, 'language': 'es', 'keywords': [{'text': 'control social', 'sentiment': {'score': 0.908312, 'label': 'positive'}, 'relevance': 0.851901, 'count': 1}, {'text': 'municipal establecimiento', 'sentiment': {'score': 0.908312, 'label': 'positive'}, 'relevance': 0.763984, 'count': 1}, {'text': 'gobiernos autonomos', 'sentiment': {'score': 0.908312, 'label': 'positive'}, 'relevance': 0.735074, 'count': 3}], 'categories': [{'score': 0.82606, 'label': '/law, govt and politics/politics'}, {'score': 0.703879, 'label': '/science/social science/sociology'}, {'score': 0.647057, 'label': '/law, govt and politics/government'}]}\n",
            "\n",
            " nro:  23\n",
            "\n",
            " {'usage': {'text_units': 1, 'text_characters': 2085, 'features': 2}, 'language': 'es', 'keywords': [{'text': 'control social', 'sentiment': {'score': 0, 'label': 'neutral'}, 'relevance': 0.830956, 'count': 1}, {'text': 'sociedad civil organizada', 'sentiment': {'score': 0, 'label': 'neutral'}, 'relevance': 0.725294, 'count': 1}, {'text': 'cjcrcicio participacion', 'sentiment': {'score': 0, 'label': 'neutral'}, 'relevance': 0.655545, 'count': 1}], 'categories': [{'score': 0.876592, 'label': '/law, govt and politics'}, {'score': 0.870537, 'label': '/law, govt and politics/politics'}, {'score': 0.830963, 'label': '/law, govt and politics/government'}]}\n",
            "\n",
            " nro:  24\n",
            "\n",
            " {'usage': {'text_units': 1, 'text_characters': 2483, 'features': 2}, 'language': 'es', 'keywords': [{'text': 'estado unitario social', 'sentiment': {'score': 0.96887, 'label': 'positive'}, 'relevance': 0.769423, 'count': 1}, {'text': 'participacion control social', 'sentiment': {'score': 0.96887, 'label': 'positive'}, 'relevance': 0.761072, 'count': 1}, {'text': 'primera seccion prvincia', 'sentiment': {'score': 0.96887, 'label': 'positive'}, 'relevance': 0.64836, 'count': 1}], 'categories': [{'score': 0.90387, 'label': '/law, govt and politics/politics'}, {'score': 0.778362, 'label': '/law, govt and politics/government'}, {'score': 0.751553, 'label': '/law, govt and politics/government/legislative'}]}\n",
            "\n",
            " nro:  25\n",
            "\n",
            " {'usage': {'text_units': 1, 'text_characters': 1919, 'features': 2}, 'language': 'es', 'keywords': [{'text': 'entidad territorial', 'sentiment': {'score': 0, 'label': 'neutral'}, 'relevance': 0.701385, 'count': 1}, {'text': 'estado ley', 'sentiment': {'score': 0, 'label': 'neutral'}, 'relevance': 0.68546, 'count': 1}, {'text': 'secton provincialais', 'sentiment': {'score': 0, 'label': 'neutral'}, 'relevance': 0.663603, 'count': 1}], 'categories': [{'score': 0.948396, 'label': '/law, govt and politics'}, {'score': 0.845146, 'label': '/law, govt and politics/government/government contracting and procurement'}, {'score': 0.79859, 'label': '/law, govt and politics/government/courts and judiciary'}]}\n",
            "\n",
            " nro:  26\n",
            "\n",
            " {'usage': {'text_units': 1, 'text_characters': 2186, 'features': 2}, 'language': 'es', 'keywords': [{'text': 'control social', 'sentiment': {'score': 0.500233, 'label': 'positive'}, 'relevance': 0.81021, 'count': 4}, {'text': 'cuentas evaluacion', 'sentiment': {'score': 0.500233, 'label': 'positive'}, 'relevance': 0.65943, 'count': 2}, {'text': 'presente ley municipal', 'sentiment': {'score': 0.500233, 'label': 'positive'}, 'relevance': 0.607771, 'count': 1}], 'categories': [{'score': 0.950472, 'label': '/law, govt and politics'}, {'score': 0.829169, 'label': '/law, govt and politics/politics'}, {'score': 0.818577, 'label': '/law, govt and politics/government'}]}\n",
            "\n",
            " nro:  27\n",
            "\n",
            " {'usage': {'text_units': 1, 'text_characters': 2230, 'features': 2}, 'language': 'es', 'keywords': [{'text': 'control social', 'sentiment': {'score': 0.6626, 'label': 'positive'}, 'relevance': 0.874052, 'count': 2}, {'text': 'mecanismos participacion', 'sentiment': {'score': 0.6626, 'label': 'positive'}, 'relevance': 0.857122, 'count': 1}, {'text': 'sociedad civil', 'sentiment': {'score': 0.6626, 'label': 'positive'}, 'relevance': 0.723661, 'count': 2}], 'categories': [{'score': 0.980501, 'label': '/law, govt and politics/government/legislative'}, {'score': 0.853831, 'label': '/law, govt and politics/politics'}]}\n",
            "\n",
            " nro:  28\n",
            "\n",
            " {'usage': {'text_units': 1, 'text_characters': 1802, 'features': 2}, 'language': 'es', 'keywords': [{'text': 'control social colectivo', 'sentiment': {'score': 0, 'label': 'neutral'}, 'relevance': 0.790339, 'count': 1}, {'text': 'asambleas cabildos municipales', 'sentiment': {'score': 0, 'label': 'neutral'}, 'relevance': 0.72261, 'count': 1}, {'text': 'control social', 'sentiment': {'score': 0, 'label': 'neutral'}, 'relevance': 0.707936, 'count': 1}], 'categories': [{'score': 0.907025, 'label': '/law, govt and politics'}, {'score': 0.872335, 'label': '/education/teaching and classroom resources'}, {'score': 0.86416, 'label': '/law, govt and politics/politics'}]}\n",
            "\n",
            " nro:  29\n",
            "\n",
            " {'usage': {'text_units': 1, 'text_characters': 1659, 'features': 2}, 'language': 'es', 'keywords': [{'text': 'control social', 'sentiment': {'score': 0.33317, 'label': 'positive'}, 'relevance': 0.794903, 'count': 1}, {'text': 'articulo primero', 'sentiment': {'score': 0.33317, 'label': 'positive'}, 'relevance': 0.669789, 'count': 1}, {'text': 'articulo segundo presente', 'sentiment': {'score': 0.33317, 'label': 'positive'}, 'relevance': 0.638606, 'count': 1}], 'categories': [{'score': 0.979494, 'label': '/law, govt and politics/government'}, {'score': 0.90151, 'label': '/law, govt and politics/government/courts and judiciary'}, {'score': 0.885984, 'label': '/law, govt and politics/government/parliament'}]}\n",
            "\n",
            " nro:  30\n",
            "\n",
            " {'usage': {'text_units': 1, 'text_characters': 2027, 'features': 2}, 'language': 'es', 'keywords': [{'text': 'decreto departamental felix', 'sentiment': {'score': 0, 'label': 'neutral'}, 'relevance': 0.663107, 'count': 1}, {'text': 'autonomos jurisdiccion', 'sentiment': {'score': 0, 'label': 'neutral'}, 'relevance': 0.654561, 'count': 1}, {'text': 'estructura organizacional', 'sentiment': {'score': 0, 'label': 'neutral'}, 'relevance': 0.63897, 'count': 1}], 'categories': [{'score': 0.820742, 'label': '/law, govt and politics'}, {'score': 0.782047, 'label': '/finance/financial news'}, {'score': 0.73497, 'label': '/law, govt and politics/government/government contracting and procurement'}]}\n",
            "\n",
            " nro:  31\n",
            "\n",
            " {'usage': {'text_units': 1, 'text_characters': 521, 'features': 2}, 'language': 'es', 'keywords': [{'text': 'gobierno autonomo departamental', 'sentiment': {'score': 0, 'label': 'neutral'}, 'relevance': 0.660987, 'count': 1}, {'text': 'plurinacional bolivia', 'sentiment': {'score': 0, 'label': 'neutral'}, 'relevance': 0.658683, 'count': 1}, {'text': 'autonoma del departamento', 'sentiment': {'score': 0, 'label': 'neutral'}, 'relevance': 0.62375, 'count': 1}], 'categories': [{'score': 0.940177, 'label': '/law, govt and politics'}, {'score': 0.917686, 'label': '/law, govt and politics/government/government contracting and procurement'}, {'score': 0.731237, 'label': '/law, govt and politics/politics'}]}\n",
            "\n",
            " nro:  32\n",
            "\n",
            " {'usage': {'text_units': 1, 'text_characters': 2172, 'features': 2}, 'language': 'es', 'keywords': [{'text': 'ley municipal', 'sentiment': {'score': 0, 'label': 'neutral'}, 'relevance': 0.890448, 'count': 1}, {'text': 'villa vaca guzman', 'sentiment': {'score': 0, 'label': 'neutral'}, 'relevance': 0.732757, 'count': 1}, {'text': 'alcalde municipal', 'sentiment': {'score': 0, 'label': 'neutral'}, 'relevance': 0.732286, 'count': 1}], 'categories': [{'score': 0.933952, 'label': '/law, govt and politics'}, {'score': 0.919826, 'label': '/law, govt and politics/government'}, {'score': 0.832143, 'label': '/law, govt and politics/government/legislative'}]}\n",
            "\n",
            " nro:  33\n",
            "\n",
            " {'usage': {'text_units': 1, 'text_characters': 1732, 'features': 2}, 'language': 'es', 'keywords': [{'text': 'gobierno municipal', 'sentiment': {'score': -0.268212, 'label': 'negative'}, 'relevance': 0.784649, 'count': 1}, {'text': 'desastres yfo', 'sentiment': {'score': -0.268212, 'label': 'negative'}, 'relevance': 0.746262, 'count': 1}, {'text': 'num ley', 'sentiment': {'score': -0.268212, 'label': 'negative'}, 'relevance': 0.705876, 'count': 1}], 'categories': [{'score': 0.982934, 'label': '/law, govt and politics/politics'}, {'score': 0.846437, 'label': '/law, govt and politics/government'}, {'score': 0.723836, 'label': '/society/unrest and war'}]}\n",
            "\n",
            " nro:  34\n",
            "\n",
            " {'usage': {'text_units': 1, 'text_characters': 1190, 'features': 2}, 'language': 'es', 'keywords': [{'text': 'ley municipal', 'sentiment': {'score': 0, 'label': 'neutral'}, 'relevance': 0.805937, 'count': 2}, {'text': 'atencion emergencias', 'sentiment': {'score': 0, 'label': 'neutral'}, 'relevance': 0.680706, 'count': 1}, {'text': 'municipio villa', 'sentiment': {'score': 0, 'label': 'neutral'}, 'relevance': 0.667864, 'count': 1}], 'categories': [{'score': 0.891945, 'label': '/law, govt and politics'}, {'score': 0.836841, 'label': '/law, govt and politics/government'}, {'score': 0.748131, 'label': '/law, govt and politics/government/government contracting and procurement'}]}\n",
            "\n",
            " nro:  35\n",
            "\n",
            " {'usage': {'text_units': 1, 'text_characters': 479, 'features': 2}, 'language': 'es', 'keywords': [{'text': 'villa vaca', 'sentiment': {'score': 0, 'label': 'neutral'}, 'relevance': 0.685521, 'count': 2}, {'text': 'despacho gaceta municipal', 'sentiment': {'score': 0, 'label': 'neutral'}, 'relevance': 0.598211, 'count': 1}, {'text': 'atencion emergencias', 'sentiment': {'score': 0, 'label': 'neutral'}, 'relevance': 0.571729, 'count': 1}], 'categories': [{'score': 0.999991, 'label': '/law, govt and politics/legal issues/legislation/family laws'}, {'score': 0.999721, 'label': '/law, govt and politics/legal issues/legislation/health care laws'}]}\n",
            "\n",
            " nro:  36\n",
            "\n",
            " {'usage': {'text_units': 1, 'text_characters': 2827, 'features': 2}, 'language': 'es', 'keywords': [{'text': 'ley municipal', 'sentiment': {'score': 0, 'label': 'neutral'}, 'relevance': 0.92863, 'count': 1}, {'text': 'cantones alcalde municipal', 'sentiment': {'score': 0, 'label': 'neutral'}, 'relevance': 0.761783, 'count': 1}, {'text': 'concejo municipal', 'sentiment': {'score': 0, 'label': 'neutral'}, 'relevance': 0.677634, 'count': 2}], 'categories': [{'score': 0.940241, 'label': '/law, govt and politics/government'}, {'score': 0.890748, 'label': '/law, govt and politics/government/legislative'}, {'score': 0.791363, 'label': '/law, govt and politics/government/parliament'}]}\n",
            "\n",
            " nro:  37\n",
            "\n",
            " {'usage': {'text_units': 1, 'text_characters': 1013, 'features': 2}, 'language': 'es', 'keywords': [{'text': 'concejo municipal', 'sentiment': {'score': 0, 'label': 'neutral'}, 'relevance': 0.747353, 'count': 1}, {'text': 'guzman primera', 'sentiment': {'score': 0, 'label': 'neutral'}, 'relevance': 0.67573, 'count': 1}, {'text': 'siguientes coordenadas', 'sentiment': {'score': 0, 'label': 'neutral'}, 'relevance': 0.673089, 'count': 1}], 'categories': [{'score': 0.605602, 'label': '/law, govt and politics'}, {'score': 0.586074, 'label': '/science/geography/cartography'}, {'score': 0.575676, 'label': '/science/geography/topography'}]}\n",
            "\n",
            " nro:  38\n",
            "\n",
            " {'usage': {'text_units': 1, 'text_characters': 171, 'features': 2}, 'language': 'es', 'keywords': [{'text': 'honorable concejo munlclpal', 'sentiment': {'score': 0, 'label': 'neutral'}, 'relevance': 0.972664, 'count': 1}, {'text': 'villa vaca', 'sentiment': {'score': 0, 'label': 'neutral'}, 'relevance': 0.676423, 'count': 1}, {'text': 'guzman primera', 'sentiment': {'score': 0, 'label': 'neutral'}, 'relevance': 0.6357, 'count': 1}], 'categories': [{'score': 0.650936, 'label': '/food and drink/food'}, {'score': 0.594949, 'label': '/food and drink/food/fast food'}, {'score': 0.583033, 'label': '/law, govt and politics/government/state and local government'}]}\n",
            "\n",
            " nro:  39\n",
            "\n",
            " {'usage': {'text_units': 1, 'text_characters': 170, 'features': 2}, 'language': 'es', 'keywords': [{'text': 'honorable concejo munlcipal', 'sentiment': {'score': 0, 'label': 'neutral'}, 'relevance': 0.971469, 'count': 1}, {'text': 'villa vaса guzman', 'sentiment': {'score': 0, 'label': 'neutral'}, 'relevance': 0.77096, 'count': 1}, {'text': 'ste norte', 'sentiment': {'score': 0, 'label': 'neutral'}, 'relevance': 0.581291, 'count': 1}], 'categories': [{'score': 0.648603, 'label': '/technology and computing/hardware/computer components/memory/portable'}, {'score': 0.614565, 'label': '/technology and computing/hardware/computer peripherals'}, {'score': 0.601376, 'label': '/society/unrest and war'}]}\n",
            "\n",
            " nro:  40\n",
            "\n",
            " {'usage': {'text_units': 1, 'text_characters': 171, 'features': 2}, 'language': 'es', 'keywords': [{'text': 'honorable concejo munlclpal', 'sentiment': {'score': 0, 'label': 'neutral'}, 'relevance': 0.98121, 'count': 1}, {'text': 'villa vaca', 'sentiment': {'score': 0, 'label': 'neutral'}, 'relevance': 0.725997, 'count': 1}, {'text': 'guzman primera', 'sentiment': {'score': 0, 'label': 'neutral'}, 'relevance': 0.683479, 'count': 1}], 'categories': [{'score': 0.782512, 'label': '/sports/golf'}]}\n",
            "\n",
            " nro:  41\n",
            "\n",
            " {'usage': {'text_units': 1, 'text_characters': 2187, 'features': 2}, 'language': 'es', 'keywords': [{'text': 'honorable concejo munlclpvl', 'sentiment': {'score': 0.717118, 'label': 'positive'}, 'relevance': 0.875113, 'count': 1}, {'text': 'milimetros ticucha', 'sentiment': {'score': 0.717118, 'label': 'positive'}, 'relevance': 0.790745, 'count': 1}, {'text': 'listado coordenadas', 'sentiment': {'score': 0.717118, 'label': 'positive'}, 'relevance': 0.688926, 'count': 1}], 'categories': [{'score': 0.620831, 'label': '/style and fashion/luxury goods'}, {'score': 0.583889, 'label': '/society/unrest and war'}, {'score': 0.557138, 'label': '/law, govt and politics'}]}\n",
            "\n",
            " nro:  42\n",
            "\n",
            " {'usage': {'text_units': 1, 'text_characters': 2395, 'features': 2}, 'language': 'es', 'keywords': [{'text': 'honorable concejo municipal', 'sentiment': {'score': 0.646965, 'label': 'positive'}, 'relevance': 0.876897, 'count': 1}, {'text': 'seiecentos noventay', 'sentiment': {'score': 0.646965, 'label': 'positive'}, 'relevance': 0.695487, 'count': 1}, {'text': 'nco milimetros ticucha', 'sentiment': {'score': 0.646965, 'label': 'positive'}, 'relevance': 0.679771, 'count': 1}], 'categories': [{'score': 0.576973, 'label': '/art and entertainment/books and literature'}, {'score': 0.524102, 'label': '/style and fashion'}, {'score': 0.520216, 'label': '/art and entertainment/books and literature/poetry'}]}\n",
            "\n",
            " nro:  43\n",
            "\n",
            " {'usage': {'text_units': 1, 'text_characters': 1248, 'features': 2}, 'language': 'es', 'keywords': [{'text': 'ordenanza municipal', 'sentiment': {'score': 0, 'label': 'neutral'}, 'relevance': 0.782359, 'count': 1}, {'text': 'honorable concejo munlclpal', 'sentiment': {'score': 0, 'label': 'neutral'}, 'relevance': 0.647907, 'count': 1}, {'text': 'guzman primera', 'sentiment': {'score': 0, 'label': 'neutral'}, 'relevance': 0.645515, 'count': 1}], 'categories': [{'score': 0.609431, 'label': '/law, govt and politics'}, {'score': 0.581007, 'label': '/law, govt and politics/government'}, {'score': 0.55563, 'label': '/society/crime/property crime'}]}\n",
            "\n",
            " nro:  44\n",
            "\n",
            " {'usage': {'text_units': 1, 'text_characters': 323, 'features': 2}, 'language': 'es', 'keywords': [{'text': 'villa vaca guzmana', 'sentiment': {'score': 0, 'label': 'neutral'}, 'relevance': 0.706334, 'count': 1}, {'text': 'actos alcaldia municipal', 'sentiment': {'score': 0, 'label': 'neutral'}, 'relevance': 0.695748, 'count': 1}, {'text': 'presente ley ley municipal', 'sentiment': {'score': 0, 'label': 'neutral'}, 'relevance': 0.582978, 'count': 1}], 'categories': [{'score': 0.923465, 'label': '/law, govt and politics'}, {'score': 0.791737, 'label': '/law, govt and politics/government'}, {'score': 0.711114, 'label': '/law, govt and politics/government/state and local government'}]}\n",
            "\n",
            " nro:  45\n",
            "\n",
            " {'usage': {'text_units': 1, 'text_characters': 2273, 'features': 2}, 'language': 'es', 'keywords': [{'text': 'ley municipal', 'sentiment': {'score': 0, 'label': 'neutral'}, 'relevance': 0.782203, 'count': 1}, {'text': 'alcalde municipal', 'sentiment': {'score': 0, 'label': 'neutral'}, 'relevance': 0.651974, 'count': 1}, {'text': 'bienes patrimonio del estado', 'sentiment': {'score': 0, 'label': 'neutral'}, 'relevance': 0.612262, 'count': 1}], 'categories': [{'score': 0.958793, 'label': '/law, govt and politics'}, {'score': 0.927829, 'label': '/law, govt and politics/government'}, {'score': 0.826448, 'label': '/real estate/buying and selling homes'}]}\n",
            "\n",
            " nro:  46\n",
            "\n",
            " {'usage': {'text_units': 1, 'text_characters': 1730, 'features': 2}, 'language': 'es', 'keywords': [{'text': 'decreto supremo', 'sentiment': {'score': 0, 'label': 'neutral'}, 'relevance': 0.77083, 'count': 3}, {'text': 'beneficiarias beneficiarios misma', 'sentiment': {'score': 0, 'label': 'neutral'}, 'relevance': 0.626892, 'count': 1}, {'text': 'ley aprobacion enajenacion', 'sentiment': {'score': 0, 'label': 'neutral'}, 'relevance': 0.625441, 'count': 1}], 'categories': [{'score': 0.899116, 'label': '/law, govt and politics/government/government contracting and procurement'}, {'score': 0.878834, 'label': '/law, govt and politics/government/legislative'}, {'score': 0.811033, 'label': '/real estate/buying and selling homes'}]}\n",
            "\n",
            " nro:  47\n",
            "\n",
            " {'usage': {'text_units': 1, 'text_characters': 239, 'features': 2}, 'language': 'es', 'keywords': [{'text': 'eニcicn rovinca', 'sentiment': {'score': 0, 'label': 'neutral'}, 'relevance': 0.914777, 'count': 1}, {'text': 'scへlvo レgイsaca', 'sentiment': {'score': 0, 'label': 'neutral'}, 'relevance': 0.681731, 'count': 1}, {'text': 'villa vaca', 'sentiment': {'score': 0, 'label': 'neutral'}, 'relevance': 0.649792, 'count': 1}], 'categories': [{'score': 0.999998, 'label': '/law, govt and politics/legal issues/legislation/family laws'}, {'score': 0.999903, 'label': '/law, govt and politics/legal issues/legislation/health care laws'}]}\n",
            "\n",
            " nro:  48\n",
            "\n",
            " {'usage': {'text_units': 1, 'text_characters': 1508, 'features': 2}, 'language': 'es', 'keywords': [{'text': 'favor del comando departamental', 'sentiment': {'score': 0, 'label': 'neutral'}, 'relevance': 0.805019, 'count': 2}, {'text': 'lote terreno', 'sentiment': {'score': 0, 'label': 'neutral'}, 'relevance': 0.769165, 'count': 4}, {'text': 'concejo municipal', 'sentiment': {'score': 0, 'label': 'neutral'}, 'relevance': 0.745071, 'count': 1}], 'categories': [{'score': 0.785898, 'label': '/law, govt and politics'}, {'score': 0.63084, 'label': '/law, govt and politics/government'}, {'score': 0.6223, 'label': '/society/unrest and war'}]}\n",
            "\n",
            " nro:  49\n",
            "\n",
            " {'usage': {'text_units': 1, 'text_characters': 790, 'features': 2}, 'language': 'es', 'keywords': [{'text': 'organo ejecutlvo municipal', 'sentiment': {'score': 0, 'label': 'neutral'}, 'relevance': 0.862826, 'count': 1}, {'text': 'villa vaca guzman', 'sentiment': {'score': 0, 'label': 'neutral'}, 'relevance': 0.766746, 'count': 1}, {'text': 'dias del mes abril', 'sentiment': {'score': 0, 'label': 'neutral'}, 'relevance': 0.652533, 'count': 1}], 'categories': [{'score': 0.627333, 'label': '/law, govt and politics/government'}, {'score': 0.596507, 'label': '/law, govt and politics/government/executive branch'}, {'score': 0.558675, 'label': '/law, govt and politics/government/state and local government'}]}\n",
            "\n",
            " nro:  50\n",
            "\n",
            " {'usage': {'text_units': 1, 'text_characters': 2250, 'features': 2}, 'language': 'es', 'keywords': [{'text': 'ley municipal', 'sentiment': {'score': 0, 'label': 'neutral'}, 'relevance': 0.868671, 'count': 2}, {'text': 'villa vaca guzman', 'sentiment': {'score': 0, 'label': 'neutral'}, 'relevance': 0.774138, 'count': 2}, {'text': 'gobierno autonomo municipal', 'sentiment': {'score': 0, 'label': 'neutral'}, 'relevance': 0.664707, 'count': 2}], 'categories': [{'score': 0.863072, 'label': '/law, govt and politics'}, {'score': 0.756848, 'label': '/law, govt and politics/government/government contracting and procurement'}, {'score': 0.668604, 'label': '/law, govt and politics/politics'}]}\n",
            "\n",
            " nro:  51\n",
            "\n",
            " {'usage': {'text_units': 1, 'text_characters': 1139, 'features': 2}, 'language': 'es', 'keywords': [{'text': 'villa vaca guzman', 'sentiment': {'score': 0, 'label': 'neutral'}, 'relevance': 0.801118, 'count': 1}, {'text': 'aspectos generales', 'sentiment': {'score': 0, 'label': 'neutral'}, 'relevance': 0.674687, 'count': 1}, {'text': 'elar ley agosto', 'sentiment': {'score': 0, 'label': 'neutral'}, 'relevance': 0.662732, 'count': 1}], 'categories': [{'score': 0.816443, 'label': '/law, govt and politics'}, {'score': 0.723562, 'label': '/law, govt and politics/government'}, {'score': 0.658205, 'label': '/law, govt and politics/government/government contracting and procurement'}]}\n",
            "\n",
            " nro:  52\n",
            "\n",
            " {'usage': {'text_units': 1, 'text_characters': 501, 'features': 2}, 'language': 'es', 'keywords': [{'text': 'villa vaca', 'sentiment': {'score': 0, 'label': 'neutral'}, 'relevance': 0.802459, 'count': 2}, {'text': 'villa vaca guzman', 'sentiment': {'score': 0, 'label': 'neutral'}, 'relevance': 0.761437, 'count': 1}, {'text': 'alcalde municipal', 'sentiment': {'score': 0, 'label': 'neutral'}, 'relevance': 0.641129, 'count': 1}], 'categories': [{'score': 0.737868, 'label': '/law, govt and politics/government'}, {'score': 0.700872, 'label': '/law, govt and politics/government/executive branch'}]}\n",
            "\n",
            " nro:  53\n",
            "\n",
            " {'usage': {'text_units': 1, 'text_characters': 2424, 'features': 2}, 'language': 'es', 'keywords': [{'text': 'exposicion motivos constitucion', 'sentiment': {'score': 0, 'label': 'neutral'}, 'relevance': 0.718246, 'count': 1}, {'text': 'ley municipal', 'sentiment': {'score': 0, 'label': 'neutral'}, 'relevance': 0.68935, 'count': 1}, {'text': 'alcalde municipal', 'sentiment': {'score': 0, 'label': 'neutral'}, 'relevance': 0.645381, 'count': 1}], 'categories': [{'score': 0.966185, 'label': '/law, govt and politics/government'}, {'score': 0.866914, 'label': '/law, govt and politics/government/parliament'}, {'score': 0.827719, 'label': '/law, govt and politics/politics'}]}\n",
            "\n",
            " nro:  54\n",
            "\n",
            " {'usage': {'text_units': 1, 'text_characters': 1693, 'features': 2}, 'language': 'es', 'keywords': [{'text': 'ley municipal', 'sentiment': {'score': 0, 'label': 'neutral'}, 'relevance': 0.892905, 'count': 2}, {'text': 'procedimiento juridico municipal', 'sentiment': {'score': 0, 'label': 'neutral'}, 'relevance': 0.717658, 'count': 2}, {'text': 'objeto presente', 'sentiment': {'score': 0, 'label': 'neutral'}, 'relevance': 0.689054, 'count': 1}], 'categories': [{'score': 0.995634, 'label': '/law, govt and politics/government/legislative'}, {'score': 0.84393, 'label': '/law, govt and politics/government/courts and judiciary'}, {'score': 0.842374, 'label': '/law, govt and politics/government/government contracting and procurement'}]}\n",
            "\n",
            " nro:  55\n",
            "\n",
            " {'usage': {'text_units': 1, 'text_characters': 1841, 'features': 2}, 'language': 'es', 'keywords': [{'text': 'materias asuntos municipales', 'sentiment': {'score': 0, 'label': 'neutral'}, 'relevance': 0.867937, 'count': 1}, {'text': 'jerarquia normativa', 'sentiment': {'score': 0, 'label': 'neutral'}, 'relevance': 0.659249, 'count': 2}, {'text': 'paimeraseccion provncia', 'sentiment': {'score': 0, 'label': 'neutral'}, 'relevance': 0.655002, 'count': 1}], 'categories': [{'score': 0.95602, 'label': '/law, govt and politics/government'}, {'score': 0.920075, 'label': '/law, govt and politics/government/legislative'}, {'score': 0.875354, 'label': '/law, govt and politics/government/courts and judiciary'}]}\n",
            "\n",
            " nro:  56\n",
            "\n",
            " {'usage': {'text_units': 1, 'text_characters': 1866, 'features': 2}, 'language': 'es', 'keywords': [{'text': 'iniciativa legislativa', 'sentiment': {'score': 0, 'label': 'neutral'}, 'relevance': 0.954521, 'count': 2}, {'text': 'concejo municipal', 'sentiment': {'score': 0, 'label': 'neutral'}, 'relevance': 0.830955, 'count': 3}, {'text': 'ejccutivo municipal', 'sentiment': {'score': 0, 'label': 'neutral'}, 'relevance': 0.803025, 'count': 1}], 'categories': [{'score': 0.999986, 'label': '/law, govt and politics/government/legislative'}]}\n",
            "\n",
            " nro:  57\n",
            "\n",
            " {'usage': {'text_units': 1, 'text_characters': 1956, 'features': 2}, 'language': 'es', 'keywords': [{'text': 'concejo municipal', 'sentiment': {'score': 0, 'label': 'neutral'}, 'relevance': 0.935183, 'count': 3}, {'text': 'organo ejecutivo municipal', 'sentiment': {'score': 0, 'label': 'neutral'}, 'relevance': 0.859386, 'count': 2}, {'text': 'proyecto ley', 'sentiment': {'score': 0, 'label': 'neutral'}, 'relevance': 0.703897, 'count': 1}], 'categories': [{'score': 0.969629, 'label': '/law, govt and politics/government'}, {'score': 0.947327, 'label': '/law, govt and politics/government/legislative'}, {'score': 0.874388, 'label': '/law, govt and politics/government/parliament'}]}\n",
            "\n",
            " nro:  58\n",
            "\n",
            " {'usage': {'text_units': 1, 'text_characters': 2012, 'features': 2}, 'language': 'es', 'keywords': [{'text': 'resoluciones municipales', 'sentiment': {'score': 0, 'label': 'neutral'}, 'relevance': 0.86214, 'count': 3}, {'text': 'proyectos resoluciones', 'sentiment': {'score': 0, 'label': 'neutral'}, 'relevance': 0.622458, 'count': 1}, {'text': 'secion provinicai ais', 'sentiment': {'score': 0, 'label': 'neutral'}, 'relevance': 0.602659, 'count': 1}], 'categories': [{'score': 0.96504, 'label': '/law, govt and politics/government'}, {'score': 0.928845, 'label': '/law, govt and politics/government/legislative'}, {'score': 0.873389, 'label': '/law, govt and politics/government/executive branch'}]}\n",
            "\n",
            " nro:  59\n",
            "\n",
            " {'usage': {'text_units': 1, 'text_characters': 1621, 'features': 2}, 'language': 'es', 'keywords': [{'text': 'decreto edil noma', 'sentiment': {'score': 0, 'label': 'neutral'}, 'relevance': 0.734044, 'count': 1}, {'text': 'alcaldesa alcalce', 'sentiment': {'score': 0, 'label': 'neutral'}, 'relevance': 0.718986, 'count': 1}, {'text': 'alcaldes distritos municipales', 'sentiment': {'score': 0, 'label': 'neutral'}, 'relevance': 0.640613, 'count': 1}], 'categories': [{'score': 0.908716, 'label': '/law, govt and politics/government'}, {'score': 0.742248, 'label': '/law, govt and politics/government/courts and judiciary'}, {'score': 0.736226, 'label': '/law, govt and politics/government/legislative'}]}\n",
            "\n",
            " nro:  60\n",
            "\n",
            " {'usage': {'text_units': 1, 'text_characters': 2119, 'features': 2}, 'language': 'es', 'keywords': [{'text': 'dependencia del gobiermo autonomo municipal', 'sentiment': {'score': 0.624903, 'label': 'positive'}, 'relevance': 0.83315, 'count': 1}, {'text': 'gaceta municipal', 'sentiment': {'score': 0.624903, 'label': 'positive'}, 'relevance': 0.759988, 'count': 2}, {'text': 'norma tablero oficial', 'sentiment': {'score': 0.624903, 'label': 'positive'}, 'relevance': 0.632617, 'count': 1}], 'categories': [{'score': 0.93507, 'label': '/law, govt and politics'}, {'score': 0.877955, 'label': '/law, govt and politics/government'}, {'score': 0.828598, 'label': '/law, govt and politics/government/government contracting and procurement'}]}\n",
            "\n",
            " nro:  61\n",
            "\n",
            " {'usage': {'text_units': 1, 'text_characters': 972, 'features': 2}, 'language': 'es', 'keywords': [{'text': 'organo ejecutivo municipal', 'sentiment': {'score': 0, 'label': 'neutral'}, 'relevance': 0.857533, 'count': 1}, {'text': 'villa vaca', 'sentiment': {'score': 0, 'label': 'neutral'}, 'relevance': 0.764597, 'count': 4}, {'text': 'concejo municipal', 'sentiment': {'score': 0, 'label': 'neutral'}, 'relevance': 0.717552, 'count': 1}], 'categories': [{'score': 0.829899, 'label': '/law, govt and politics'}, {'score': 0.812611, 'label': '/law, govt and politics/government'}, {'score': 0.709921, 'label': '/law, govt and politics/government/government contracting and procurement'}]}\n",
            "\n",
            " nro:  62\n",
            "\n",
            " {'usage': {'text_units': 1, 'text_characters': 2822, 'features': 2}, 'language': 'es', 'keywords': [{'text': 'gestion riesgos', 'sentiment': {'score': -0.897959, 'label': 'negative'}, 'relevance': 0.687726, 'count': 1}, {'text': 'leyes justiniano', 'sentiment': {'score': -0.897959, 'label': 'negative'}, 'relevance': 0.682722, 'count': 1}, {'text': 'yonomo municipal eckabamba', 'sentiment': {'score': -0.897959, 'label': 'negative'}, 'relevance': 0.680073, 'count': 1}], 'categories': [{'score': 0.971461, 'label': '/law, govt and politics/government/government contracting and procurement'}, {'score': 0.807204, 'label': '/science'}, {'score': 0.704308, 'label': '/science/weather/meteorological disaster'}]}\n",
            "\n",
            " nro:  63\n",
            "\n",
            " {'usage': {'text_units': 1, 'text_characters': 2202, 'features': 2}, 'language': 'es', 'keywords': [{'text': 'ley municipal', 'sentiment': {'score': 0, 'label': 'neutral'}, 'relevance': 0.812941, 'count': 1}, {'text': 'concejo municipal', 'sentiment': {'score': 0, 'label': 'neutral'}, 'relevance': 0.711608, 'count': 1}, {'text': 'gobierno ytonomo', 'sentiment': {'score': 0, 'label': 'neutral'}, 'relevance': 0.624535, 'count': 1}], 'categories': [{'score': 0.902739, 'label': '/law, govt and politics'}, {'score': 0.794101, 'label': '/law, govt and politics/government'}, {'score': 0.767499, 'label': '/law, govt and politics/government/government contracting and procurement'}]}\n",
            "\n",
            " nro:  64\n",
            "\n",
            " {'usage': {'text_units': 1, 'text_characters': 2373, 'features': 2}, 'language': 'es', 'keywords': [{'text': 'publicos municipales', 'sentiment': {'score': 0, 'label': 'neutral'}, 'relevance': 0.787965, 'count': 1}, {'text': 'decreto servidores', 'sentiment': {'score': 0, 'label': 'neutral'}, 'relevance': 0.775265, 'count': 1}, {'text': 'presente decreto municipal', 'sentiment': {'score': 0, 'label': 'neutral'}, 'relevance': 0.680707, 'count': 1}], 'categories': [{'score': 0.956393, 'label': '/law, govt and politics/government/government contracting and procurement'}, {'score': 0.952281, 'label': '/law, govt and politics/politics'}, {'score': 0.951582, 'label': '/law, govt and politics/government/legislative'}]}\n",
            "\n",
            " nro:  65\n",
            "\n",
            " {'usage': {'text_units': 1, 'text_characters': 2259, 'features': 2}, 'language': 'es', 'keywords': [{'text': 'dias habiles', 'sentiment': {'score': 0.886369, 'label': 'positive'}, 'relevance': 0.698982, 'count': 1}, {'text': 'nota aceptacion', 'sentiment': {'score': 0.886369, 'label': 'positive'}, 'relevance': 0.683805, 'count': 1}, {'text': 'nota adjudicacion', 'sentiment': {'score': 0.886369, 'label': 'positive'}, 'relevance': 0.654077, 'count': 1}], 'categories': [{'score': 0.992922, 'label': '/law, govt and politics/government/government contracting and procurement'}]}\n",
            "\n",
            " nro:  66\n",
            "\n",
            " {'usage': {'text_units': 1, 'text_characters': 2717, 'features': 2}, 'language': 'es', 'keywords': [{'text': 'secretarias municipales', 'sentiment': {'score': 0, 'label': 'neutral'}, 'relevance': 0.754015, 'count': 1}, {'text': 'gobierno dyionomo', 'sentiment': {'score': 0, 'label': 'neutral'}, 'relevance': 0.62195, 'count': 1}, {'text': 'servicios generales', 'sentiment': {'score': 0, 'label': 'neutral'}, 'relevance': 0.620451, 'count': 1}], 'categories': [{'score': 0.973384, 'label': '/law, govt and politics/government/government contracting and procurement'}, {'score': 0.838396, 'label': '/finance/investing/funds'}, {'score': 0.703437, 'label': '/finance/financial news'}]}\n",
            "\n",
            " nro:  67\n",
            "\n",
            " {'usage': {'text_units': 1, 'text_characters': 764, 'features': 2}, 'language': 'es', 'keywords': [{'text': 'yonomo municipal', 'sentiment': {'score': 0, 'label': 'neutral'}, 'relevance': 0.741623, 'count': 1}, {'text': 'rodrigua secretario', 'sentiment': {'score': 0, 'label': 'neutral'}, 'relevance': 0.595033, 'count': 1}, {'text': 'cocharamba cretano municipal', 'sentiment': {'score': 0, 'label': 'neutral'}, 'relevance': 0.583379, 'count': 1}], 'categories': [{'score': 0.783492, 'label': '/law, govt and politics'}, {'score': 0.774413, 'label': '/law, govt and politics/government'}, {'score': 0.679199, 'label': '/law, govt and politics/government/government contracting and procurement'}]}\n",
            "\n",
            " nro:  68\n",
            "\n",
            " {'usage': {'text_units': 1, 'text_characters': 3064, 'features': 2}, 'language': 'es', 'keywords': [{'text': 'atonomo municipal gechabamba', 'sentiment': {'score': 0.790459, 'label': 'positive'}, 'relevance': 0.733287, 'count': 1}, {'text': 'desarrollo integral', 'sentiment': {'score': 0.790459, 'label': 'positive'}, 'relevance': 0.627716, 'count': 1}, {'text': 'loda niñu niño', 'sentiment': {'score': 0.790459, 'label': 'positive'}, 'relevance': 0.611666, 'count': 1}], 'categories': [{'score': 0.987892, 'label': '/law, govt and politics/government'}, {'score': 0.969347, 'label': '/law, govt and politics/government/legislative'}, {'score': 0.855962, 'label': '/law, govt and politics/government/courts and judiciary'}]}\n",
            "\n",
            " nro:  69\n",
            "\n",
            " {'usage': {'text_units': 1, 'text_characters': 3395, 'features': 2}, 'language': 'es', 'keywords': [{'text': 'utonomo municipal', 'sentiment': {'score': 0.88861, 'label': 'positive'}, 'relevance': 0.880778, 'count': 1}, {'text': 'ley del codigo niño', 'sentiment': {'score': 0.88861, 'label': 'positive'}, 'relevance': 0.748046, 'count': 1}, {'text': 'admmistrativo del gobiemo autonomo municipal', 'sentiment': {'score': 0.88861, 'label': 'positive'}, 'relevance': 0.621355, 'count': 1}], 'categories': [{'score': 0.999627, 'label': '/family and parenting/children'}, {'score': 0.994037, 'label': '/law, govt and politics/government/legislative'}, {'score': 0.55763, 'label': '/law, govt and politics/government/government contracting and procurement'}]}\n",
            "\n",
            " nro:  70\n",
            "\n",
            " {'usage': {'text_units': 1, 'text_characters': 2343, 'features': 2}, 'language': 'es', 'keywords': [{'text': 'ley municipal', 'sentiment': {'score': 0, 'label': 'neutral'}, 'relevance': 0.873196, 'count': 2}, {'text': 'disposiciones generales', 'sentiment': {'score': 0, 'label': 'neutral'}, 'relevance': 0.660919, 'count': 1}, {'text': 'uionomo manicipal gechabamba', 'sentiment': {'score': 0, 'label': 'neutral'}, 'relevance': 0.632159, 'count': 1}], 'categories': [{'score': 0.999948, 'label': '/family and parenting/children'}]}\n",
            "\n",
            " nro:  71\n",
            "\n",
            " {'usage': {'text_units': 1, 'text_characters': 3895, 'features': 2}, 'language': 'es', 'keywords': [{'text': 'ytonomo municipal', 'sentiment': {'score': 0, 'label': 'neutral'}, 'relevance': 0.739428, 'count': 1}, {'text': 'desarrollo integral primera', 'sentiment': {'score': 0, 'label': 'neutral'}, 'relevance': 0.715698, 'count': 2}, {'text': 'atencion integral', 'sentiment': {'score': 0, 'label': 'neutral'}, 'relevance': 0.670181, 'count': 1}], 'categories': [{'score': 0.939998, 'label': '/family and parenting/children'}, {'score': 0.84744, 'label': '/education/homework and study tips'}, {'score': 0.778962, 'label': '/health and fitness/disorders/mental disorder/panic and anxiety'}]}\n",
            "\n",
            " nro:  72\n",
            "\n",
            " {'usage': {'text_units': 1, 'text_characters': 2829, 'features': 2}, 'language': 'es', 'keywords': [{'text': 'uonomo municipal', 'sentiment': {'score': 0.994903, 'label': 'positive'}, 'relevance': 0.775174, 'count': 1}, {'text': 'desarrollo integral', 'sentiment': {'score': 0.994903, 'label': 'positive'}, 'relevance': 0.765066, 'count': 1}, {'text': 'centros municipales', 'sentiment': {'score': 0.994903, 'label': 'positive'}, 'relevance': 0.64406, 'count': 1}], 'categories': [{'score': 0.999993, 'label': '/family and parenting/children'}]}\n",
            "\n",
            " nro:  73\n",
            "\n",
            " {'usage': {'text_units': 1, 'text_characters': 2641, 'features': 2}, 'language': 'es', 'keywords': [{'text': 'utonomo municipal geckabamba', 'sentiment': {'score': 0, 'label': 'neutral'}, 'relevance': 0.811811, 'count': 1}, {'text': 'politicas proteccion primera', 'sentiment': {'score': 0, 'label': 'neutral'}, 'relevance': 0.806325, 'count': 3}, {'text': 'presente decreto municipal', 'sentiment': {'score': 0, 'label': 'neutral'}, 'relevance': 0.739826, 'count': 3}], 'categories': [{'score': 0.999962, 'label': '/family and parenting/children'}]}\n",
            "\n",
            " nro:  74\n",
            "\n",
            " {'usage': {'text_units': 1, 'text_characters': 2919, 'features': 2}, 'language': 'es', 'keywords': [{'text': 'garkakambu secretaria', 'sentiment': {'score': 0, 'label': 'neutral'}, 'relevance': 0.966267, 'count': 1}, {'text': 'gencral secretaria', 'sentiment': {'score': 0, 'label': 'neutral'}, 'relevance': 0.794138, 'count': 1}, {'text': 'desarrollo humano', 'sentiment': {'score': 0, 'label': 'neutral'}, 'relevance': 0.753813, 'count': 1}], 'categories': [{'score': 0.815347, 'label': '/careers/career planning'}, {'score': 0.795215, 'label': '/law, govt and politics'}, {'score': 0.773392, 'label': '/law, govt and politics/politics'}]}\n",
            "\n",
            " nro:  75\n",
            "\n",
            " {'usage': {'text_units': 1, 'text_characters': 3430, 'features': 2}, 'language': 'es', 'keywords': [{'text': 'municipales atencion', 'sentiment': {'score': 0.894523, 'label': 'positive'}, 'relevance': 0.693531, 'count': 1}, {'text': 'proceso comunicacion institucion', 'sentiment': {'score': 0.894523, 'label': 'positive'}, 'relevance': 0.631407, 'count': 1}, {'text': 'utonomo municipat', 'sentiment': {'score': 0.894523, 'label': 'positive'}, 'relevance': 0.625737, 'count': 1}], 'categories': [{'score': 0.983439, 'label': '/family and parenting/children'}, {'score': 0.817107, 'label': '/health and fitness/nutrition'}, {'score': 0.738068, 'label': \"/health and fitness/men's health\"}]}\n",
            "\n",
            " nro:  76\n",
            "\n",
            " {'usage': {'text_units': 1, 'text_characters': 3374, 'features': 2}, 'language': 'es', 'keywords': [{'text': 'yonomo municipal', 'sentiment': {'score': 0.874644, 'label': 'positive'}, 'relevance': 0.770102, 'count': 1}, {'text': 'direccion intendencia municipal', 'sentiment': {'score': 0.874644, 'label': 'positive'}, 'relevance': 0.657846, 'count': 1}, {'text': 'niñas menores', 'sentiment': {'score': 0.874644, 'label': 'positive'}, 'relevance': 0.624681, 'count': 1}], 'categories': [{'score': 0.734727, 'label': '/family and parenting/children'}, {'score': 0.533292, 'label': \"/health and fitness/men's health\"}]}\n",
            "\n",
            " nro:  77\n",
            "\n",
            " {'usage': {'text_units': 1, 'text_characters': 3101, 'features': 2}, 'language': 'es', 'keywords': [{'text': 'atencion primera', 'sentiment': {'score': 0.856879, 'label': 'positive'}, 'relevance': 0.679697, 'count': 1}, {'text': 'ytoaemo municipal', 'sentiment': {'score': 0.856879, 'label': 'positive'}, 'relevance': 0.658814, 'count': 1}, {'text': 'infraestructuras propiedad municipal', 'sentiment': {'score': 0.856879, 'label': 'positive'}, 'relevance': 0.627941, 'count': 1}], 'categories': [{'score': 0.983855, 'label': '/careers/career planning'}, {'score': 0.964192, 'label': '/finance/investing/funds'}, {'score': 0.857932, 'label': '/education/special education'}]}\n",
            "\n",
            " nro:  78\n",
            "\n",
            " {'usage': {'text_units': 1, 'text_characters': 3374, 'features': 2}, 'language': 'es', 'keywords': [{'text': 'utonomo municipal', 'sentiment': {'score': 0.56951, 'label': 'positive'}, 'relevance': 0.786018, 'count': 1}, {'text': 'programa secretaria general', 'sentiment': {'score': 0.56951, 'label': 'positive'}, 'relevance': 0.695495, 'count': 1}, {'text': 'infancia territorio municipal', 'sentiment': {'score': 0.56951, 'label': 'positive'}, 'relevance': 0.672781, 'count': 1}], 'categories': [{'score': 0.866016, 'label': '/law, govt and politics'}, {'score': 0.771818, 'label': '/law, govt and politics/government/government contracting and procurement'}, {'score': 0.669259, 'label': '/education'}]}\n",
            "\n",
            " nro:  79\n",
            "\n",
            " {'usage': {'text_units': 1, 'text_characters': 2981, 'features': 2}, 'language': 'es', 'keywords': [{'text': 'secretaria desarrollo humano', 'sentiment': {'score': 0, 'label': 'neutral'}, 'relevance': 0.868799, 'count': 2}, {'text': 'igualdad oportunidades', 'sentiment': {'score': 0, 'label': 'neutral'}, 'relevance': 0.718691, 'count': 2}, {'text': 'meses previos', 'sentiment': {'score': 0, 'label': 'neutral'}, 'relevance': 0.673345, 'count': 1}], 'categories': [{'score': 0.914996, 'label': '/family and parenting/children'}, {'score': 0.856095, 'label': '/education'}, {'score': 0.829111, 'label': '/education/studying business'}]}\n",
            "\n",
            " nro:  80\n",
            "\n",
            " {'usage': {'text_units': 1, 'text_characters': 737, 'features': 2}, 'language': 'es', 'keywords': [{'text': 'decreto municipal', 'sentiment': {'score': 0, 'label': 'neutral'}, 'relevance': 0.708781, 'count': 1}, {'text': 'ytonomo manicipal', 'sentiment': {'score': 0, 'label': 'neutral'}, 'relevance': 0.682115, 'count': 1}, {'text': 'municpal secretaria', 'sentiment': {'score': 0, 'label': 'neutral'}, 'relevance': 0.59083, 'count': 1}], 'categories': [{'score': 0.538857, 'label': '/law, govt and politics'}, {'score': 0.528084, 'label': '/law, govt and politics/government'}, {'score': 0.522057, 'label': '/law, govt and politics/government/state and local government'}]}\n",
            "\n",
            " nro:  81\n",
            "\n",
            " {'usage': {'text_units': 1, 'text_characters': 2341, 'features': 2}, 'language': 'es', 'keywords': [{'text': 'kutonomo municipal', 'sentiment': {'score': 0, 'label': 'neutral'}, 'relevance': 0.877418, 'count': 1}, {'text': 'decreto municipal', 'sentiment': {'score': 0, 'label': 'neutral'}, 'relevance': 0.69452, 'count': 1}, {'text': 'concejo municipal', 'sentiment': {'score': 0, 'label': 'neutral'}, 'relevance': 0.635963, 'count': 1}], 'categories': [{'score': 0.964302, 'label': '/law, govt and politics/government'}, {'score': 0.903472, 'label': '/law, govt and politics/government/courts and judiciary'}, {'score': 0.824889, 'label': '/law, govt and politics/government/legislative'}]}\n",
            "\n",
            " nro:  82\n",
            "\n",
            " {'usage': {'text_units': 1, 'text_characters': 2145, 'features': 2}, 'language': 'es', 'keywords': [{'text': 'arquitectonico cultural diferentes', 'sentiment': {'score': 0.734253, 'label': 'positive'}, 'relevance': 0.65598, 'count': 1}, {'text': 'ciudad cochabamba', 'sentiment': {'score': 0.734253, 'label': 'positive'}, 'relevance': 0.636609, 'count': 1}, {'text': 'informe dpt', 'sentiment': {'score': 0.734253, 'label': 'positive'}, 'relevance': 0.633796, 'count': 1}], 'categories': [{'score': 0.994009, 'label': '/law, govt and politics/government/legislative'}, {'score': 0.85693, 'label': '/careers/career planning'}, {'score': 0.7832, 'label': '/law, govt and politics/government/parliament'}]}\n",
            "\n",
            " nro:  83\n",
            "\n",
            " {'usage': {'text_units': 1, 'text_characters': 564, 'features': 2}, 'language': 'es', 'keywords': [{'text': 'utonomo municigal', 'sentiment': {'score': 0.576014, 'label': 'positive'}, 'relevance': 0.732129, 'count': 1}, {'text': 'decreto municipal cntrara', 'sentiment': {'score': 0.576014, 'label': 'positive'}, 'relevance': 0.696152, 'count': 1}, {'text': 'prensa circulacion nacional', 'sentiment': {'score': 0.576014, 'label': 'positive'}, 'relevance': 0.604372, 'count': 1}], 'categories': [{'score': 0.918893, 'label': '/health and fitness/disease/cancer'}, {'score': 0.720566, 'label': '/health and fitness/disease/cancer/brain tumor'}, {'score': 0.708878, 'label': '/law, govt and politics'}]}\n",
            "\n",
            " nro:  84\n",
            "\n",
            " {'usage': {'text_units': 1, 'text_characters': 2313, 'features': 2}, 'language': 'es', 'keywords': [{'text': 'decreto municipal cochabamba', 'sentiment': {'score': 0, 'label': 'neutral'}, 'relevance': 0.961779, 'count': 1}, {'text': 'asamblea legislativa', 'sentiment': {'score': 0, 'label': 'neutral'}, 'relevance': 0.67918, 'count': 1}, {'text': 'secretarios municipales', 'sentiment': {'score': 0, 'label': 'neutral'}, 'relevance': 0.66348, 'count': 2}], 'categories': [{'score': 0.900411, 'label': '/real estate/buying and selling homes'}, {'score': 0.889447, 'label': '/law, govt and politics'}, {'score': 0.871527, 'label': '/law, govt and politics/government/legislative'}]}\n",
            "\n",
            " nro:  85\n",
            "\n",
            " {'usage': {'text_units': 1, 'text_characters': 2005, 'features': 2}, 'language': 'es', 'keywords': [{'text': 'proyecto decreto municipal', 'sentiment': {'score': 0, 'label': 'neutral'}, 'relevance': 0.674957, 'count': 1}, {'text': 'autoname mumicapa', 'sentiment': {'score': 0, 'label': 'neutral'}, 'relevance': 0.643861, 'count': 1}, {'text': 'propiedad bienes inmuebles', 'sentiment': {'score': 0, 'label': 'neutral'}, 'relevance': 0.621136, 'count': 1}], 'categories': [{'score': 0.975888, 'label': '/law, govt and politics'}, {'score': 0.884982, 'label': '/law, govt and politics/government'}, {'score': 0.872236, 'label': '/law, govt and politics/government/government contracting and procurement'}]}\n",
            "\n",
            " nro:  86\n",
            "\n",
            " {'usage': {'text_units': 1, 'text_characters': 737, 'features': 2}, 'language': 'es', 'keywords': [{'text': 'secretario municipal', 'sentiment': {'score': 0.664165, 'label': 'positive'}, 'relevance': 0.740845, 'count': 1}, {'text': 'decreto municipal', 'sentiment': {'score': 0.664165, 'label': 'positive'}, 'relevance': 0.675705, 'count': 1}, {'text': 'autonoms amienicpa', 'sentiment': {'score': 0.664165, 'label': 'positive'}, 'relevance': 0.652919, 'count': 1}], 'categories': [{'score': 0.634223, 'label': '/pets/zoo'}, {'score': 0.586173, 'label': '/pets/large animals'}, {'score': 0.555815, 'label': '/law, govt and politics/politics'}]}\n",
            "\n",
            " nro:  87\n",
            "\n",
            " {'usage': {'text_units': 1, 'text_characters': 2977, 'features': 2}, 'language': 'es', 'keywords': [{'text': 'gobiernos municipales', 'sentiment': {'score': 0, 'label': 'neutral'}, 'relevance': 0.707192, 'count': 1}, {'text': 'gobierno ytonomo', 'sentiment': {'score': 0, 'label': 'neutral'}, 'relevance': 0.694345, 'count': 1}, {'text': 'concejo municipal', 'sentiment': {'score': 0, 'label': 'neutral'}, 'relevance': 0.617708, 'count': 1}], 'categories': [{'score': 0.920715, 'label': '/law, govt and politics'}, {'score': 0.91367, 'label': '/law, govt and politics/government'}, {'score': 0.899572, 'label': '/law, govt and politics/government/legislative'}]}\n",
            "\n",
            " nro:  88\n",
            "\n",
            " {'usage': {'text_units': 1, 'text_characters': 3654, 'features': 2}, 'language': 'es', 'keywords': [{'text': 'tnomo municipal', 'sentiment': {'score': 0, 'label': 'neutral'}, 'relevance': 0.911907, 'count': 1}, {'text': 'normativa vigente', 'sentiment': {'score': 0, 'label': 'neutral'}, 'relevance': 0.667914, 'count': 1}, {'text': 'aprobard reglamentos espectficos', 'sentiment': {'score': 0, 'label': 'neutral'}, 'relevance': 0.596895, 'count': 1}], 'categories': [{'score': 0.923467, 'label': '/law, govt and politics'}, {'score': 0.915348, 'label': '/law, govt and politics/government'}, {'score': 0.851522, 'label': '/real estate/buying and selling homes'}]}\n",
            "\n",
            " nro:  89\n",
            "\n",
            " {'usage': {'text_units': 1, 'text_characters': 1386, 'features': 2}, 'language': 'es', 'keywords': [{'text': 'uionomo municipal', 'sentiment': {'score': 0, 'label': 'neutral'}, 'relevance': 0.875011, 'count': 1}, {'text': 'ley municipal', 'sentiment': {'score': 0, 'label': 'neutral'}, 'relevance': 0.837488, 'count': 1}, {'text': 'decreto municipal', 'sentiment': {'score': 0, 'label': 'neutral'}, 'relevance': 0.73921, 'count': 2}], 'categories': [{'score': 0.939508, 'label': '/law, govt and politics/politics'}, {'score': 0.883735, 'label': '/law, govt and politics/government'}, {'score': 0.715846, 'label': '/society/crime/property crime'}]}\n",
            "\n",
            " nro:  90\n",
            "\n",
            " {'usage': {'text_units': 1, 'text_characters': 2880, 'features': 2}, 'language': 'es', 'keywords': [{'text': 'disposiciones legales', 'sentiment': {'score': 0, 'label': 'neutral'}, 'relevance': 0.70706, 'count': 1}, {'text': 'asociacion civil denominada', 'sentiment': {'score': 0, 'label': 'neutral'}, 'relevance': 0.668775, 'count': 1}, {'text': 'personas individuales', 'sentiment': {'score': 0, 'label': 'neutral'}, 'relevance': 0.656335, 'count': 1}], 'categories': [{'score': 0.990955, 'label': '/law, govt and politics/government'}, {'score': 0.881228, 'label': '/law, govt and politics/government/legislative'}, {'score': 0.846037, 'label': '/law, govt and politics/government/parliament'}]}\n",
            "\n",
            " nro:  91\n",
            "\n",
            " {'usage': {'text_units': 1, 'text_characters': 2374, 'features': 2}, 'language': 'es', 'keywords': [{'text': 'gobierno autonomo municipal', 'sentiment': {'score': 0, 'label': 'neutral'}, 'relevance': 0.756979, 'count': 1}, {'text': 'concejo municipal', 'sentiment': {'score': 0, 'label': 'neutral'}, 'relevance': 0.696682, 'count': 1}, {'text': 'decreto edil cochabamba', 'sentiment': {'score': 0, 'label': 'neutral'}, 'relevance': 0.671042, 'count': 1}], 'categories': [{'score': 0.917556, 'label': '/law, govt and politics'}, {'score': 0.906993, 'label': '/law, govt and politics/government'}, {'score': 0.834117, 'label': '/law, govt and politics/government/legislative'}]}\n",
            "\n",
            " nro:  92\n",
            "\n",
            " {'usage': {'text_units': 1, 'text_characters': 2985, 'features': 2}, 'language': 'es', 'keywords': [{'text': 'gobiernos municipales', 'sentiment': {'score': 0, 'label': 'neutral'}, 'relevance': 0.715094, 'count': 1}, {'text': 'decreto edil cochabamba', 'sentiment': {'score': 0, 'label': 'neutral'}, 'relevance': 0.701142, 'count': 1}, {'text': 'ley administracion presupuestaria', 'sentiment': {'score': 0, 'label': 'neutral'}, 'relevance': 0.638878, 'count': 1}], 'categories': [{'score': 0.994022, 'label': '/law, govt and politics/government'}, {'score': 0.958615, 'label': '/law, govt and politics/government/executive branch'}, {'score': 0.906301, 'label': '/law, govt and politics/government/legislative'}]}\n",
            "\n",
            " nro:  93\n",
            "\n",
            " {'usage': {'text_units': 1, 'text_characters': 2458, 'features': 2}, 'language': 'es', 'keywords': [{'text': 'aprobacion modificaciones presupuestarias', 'sentiment': {'score': 0, 'label': 'neutral'}, 'relevance': 0.818001, 'count': 1}, {'text': 'total presupuesto misma', 'sentiment': {'score': 0, 'label': 'neutral'}, 'relevance': 0.689714, 'count': 1}, {'text': 'uionomo manicipal', 'sentiment': {'score': 0, 'label': 'neutral'}, 'relevance': 0.670516, 'count': 1}], 'categories': [{'score': 0.912316, 'label': '/law, govt and politics'}, {'score': 0.848347, 'label': '/law, govt and politics/government'}, {'score': 0.825379, 'label': '/law, govt and politics/government/legislative'}]}\n",
            "\n",
            " nro:  94\n",
            "\n",
            " {'usage': {'text_units': 1, 'text_characters': 2004, 'features': 2}, 'language': 'es', 'keywords': [{'text': 'asfalto aguinaldos dap', 'sentiment': {'score': 0, 'label': 'neutral'}, 'relevance': 0.736619, 'count': 1}, {'text': 'planta asflto', 'sentiment': {'score': 0, 'label': 'neutral'}, 'relevance': 0.65954, 'count': 1}, {'text': 'yionomo manicipat', 'sentiment': {'score': 0, 'label': 'neutral'}, 'relevance': 0.605618, 'count': 1}], 'categories': [{'score': 0.784083, 'label': '/law, govt and politics'}, {'score': 0.731458, 'label': '/business and industrial/business operations'}, {'score': 0.673058, 'label': '/law, govt and politics/government/government contracting and procurement'}]}\n",
            "\n",
            " nro:  95\n",
            "\n",
            " {'usage': {'text_units': 1, 'text_characters': 369, 'features': 2}, 'language': 'es', 'keywords': [{'text': 'aytonomo muaicipal gechabamba', 'sentiment': {'score': 0, 'label': 'neutral'}, 'relevance': 0.852477, 'count': 1}, {'text': 'decreto edil registrese', 'sentiment': {'score': 0, 'label': 'neutral'}, 'relevance': 0.609234, 'count': 1}, {'text': 'articulo sexto', 'sentiment': {'score': 0, 'label': 'neutral'}, 'relevance': 0.587889, 'count': 1}], 'categories': [{'score': 0.837795, 'label': '/law, govt and politics'}, {'score': 0.758954, 'label': '/law, govt and politics/government/government contracting and procurement'}, {'score': 0.646955, 'label': '/law, govt and politics/politics'}]}\n",
            "\n",
            " nro:  96\n",
            "\n",
            " {'usage': {'text_units': 1, 'text_characters': 2961, 'features': 2}, 'language': 'es', 'keywords': [{'text': 'numeral paragrafo del artlculo', 'sentiment': {'score': 0, 'label': 'neutral'}, 'relevance': 0.674921, 'count': 1}, {'text': 'competencia exclusiva', 'sentiment': {'score': 0, 'label': 'neutral'}, 'relevance': 0.652993, 'count': 1}, {'text': 'ytonomo municipal gchakaamba', 'sentiment': {'score': 0, 'label': 'neutral'}, 'relevance': 0.632573, 'count': 1}], 'categories': [{'score': 0.985344, 'label': '/law, govt and politics/government'}, {'score': 0.969005, 'label': '/law, govt and politics/politics'}, {'score': 0.884466, 'label': '/law, govt and politics/government/parliament'}]}\n",
            "\n",
            " nro:  97\n",
            "\n",
            " {'usage': {'text_units': 1, 'text_characters': 2143, 'features': 2}, 'language': 'es', 'keywords': [{'text': 'modificaciones presupuestarias', 'sentiment': {'score': 0, 'label': 'neutral'}, 'relevance': 0.81322, 'count': 1}, {'text': 'modificacion presupuestaria', 'sentiment': {'score': 0, 'label': 'neutral'}, 'relevance': 0.678043, 'count': 1}, {'text': 'municipal chubumba', 'sentiment': {'score': 0, 'label': 'neutral'}, 'relevance': 0.650217, 'count': 1}], 'categories': [{'score': 0.999963, 'label': '/education/special education'}, {'score': 0.993122, 'label': '/finance/grants, scholarships and financial aid/government grants'}]}\n",
            "\n",
            " nro:  98\n",
            "\n",
            " {'usage': {'text_units': 1, 'text_characters': 964, 'features': 2}, 'language': 'es', 'keywords': [{'text': 'nun dap cercauo', 'sentiment': {'score': 0, 'label': 'neutral'}, 'relevance': 0.640951, 'count': 1}, {'text': 'uonomo municipal', 'sentiment': {'score': 0, 'label': 'neutral'}, 'relevance': 0.622104, 'count': 1}, {'text': 'equipo oap ashalio', 'sentiment': {'score': 0, 'label': 'neutral'}, 'relevance': 0.576098, 'count': 1}], 'categories': [{'score': 0.677196, 'label': '/health and fitness/disease'}, {'score': 0.640461, 'label': '/food and drink/food'}, {'score': 0.591229, 'label': '/food and drink/cuisines'}]}\n",
            "\n",
            " nro:  99\n",
            "\n",
            " {'usage': {'text_units': 1, 'text_characters': 1008, 'features': 2}, 'language': 'es', 'keywords': [{'text': 'eiuzacion dap estructlrantesy', 'sentiment': {'score': 0.333131, 'label': 'positive'}, 'relevance': 0.71544, 'count': 1}, {'text': 'utonomo manicipal', 'sentiment': {'score': 0.333131, 'label': 'positive'}, 'relevance': 0.604003, 'count': 1}, {'text': 'msenforizacion gob wun', 'sentiment': {'score': 0.333131, 'label': 'positive'}, 'relevance': 0.573549, 'count': 1}], 'categories': [{'score': 0.656152, 'label': '/sports/fishing'}, {'score': 0.621641, 'label': '/sports/fishing/saltwater fishing'}, {'score': 0.610763, 'label': '/sports/fishing/freshwater fishing'}]}\n",
            "The 'try except' is finished\n"
          ],
          "name": "stdout"
        }
      ]
    },
    {
      "cell_type": "code",
      "metadata": {
        "id": "n1o67-_poOcJ",
        "colab_type": "code",
        "colab": {
          "base_uri": "https://localhost:8080/",
          "height": 323
        },
        "outputId": "e4d85ecc-1c9f-4a25-c113-69c14a23d8aa"
      },
      "source": [
        "response"
      ],
      "execution_count": 105,
      "outputs": [
        {
          "output_type": "execute_result",
          "data": {
            "text/plain": [
              "{'categories': [{'label': '/sports/fishing', 'score': 0.656152},\n",
              "  {'label': '/sports/fishing/saltwater fishing', 'score': 0.621641},\n",
              "  {'label': '/sports/fishing/freshwater fishing', 'score': 0.610763}],\n",
              " 'keywords': [{'count': 1,\n",
              "   'relevance': 0.71544,\n",
              "   'sentiment': {'label': 'positive', 'score': 0.333131},\n",
              "   'text': 'eiuzacion dap estructlrantesy'},\n",
              "  {'count': 1,\n",
              "   'relevance': 0.604003,\n",
              "   'sentiment': {'label': 'positive', 'score': 0.333131},\n",
              "   'text': 'utonomo manicipal'},\n",
              "  {'count': 1,\n",
              "   'relevance': 0.573549,\n",
              "   'sentiment': {'label': 'positive', 'score': 0.333131},\n",
              "   'text': 'msenforizacion gob wun'}],\n",
              " 'language': 'es',\n",
              " 'usage': {'features': 2, 'text_characters': 1008, 'text_units': 1}}"
            ]
          },
          "metadata": {
            "tags": []
          },
          "execution_count": 105
        }
      ]
    },
    {
      "cell_type": "markdown",
      "metadata": {
        "id": "795B6BIBtyGM",
        "colab_type": "text"
      },
      "source": [
        "### Dataframe resultado de la asignación de los keywords y las categorias"
      ]
    },
    {
      "cell_type": "code",
      "metadata": {
        "id": "q3LlRJietyGN",
        "colab_type": "code",
        "outputId": "07dd718d-6b08-4752-aeb3-5fccaf1c2564",
        "colab": {
          "base_uri": "https://localhost:8080/",
          "height": 35
        }
      },
      "source": [
        "watson75.shape"
      ],
      "execution_count": 106,
      "outputs": [
        {
          "output_type": "execute_result",
          "data": {
            "text/plain": [
              "(100, 1)"
            ]
          },
          "metadata": {
            "tags": []
          },
          "execution_count": 106
        }
      ]
    },
    {
      "cell_type": "code",
      "metadata": {
        "id": "J_cvfl2rof3C",
        "colab_type": "code",
        "colab": {
          "base_uri": "https://localhost:8080/",
          "height": 161
        },
        "outputId": "90f58e60-477f-4a0a-9c59-154996082d0e"
      },
      "source": [
        "watson75['output_watson'][0]"
      ],
      "execution_count": 107,
      "outputs": [
        {
          "output_type": "execute_result",
          "data": {
            "text/plain": [
              "[[('ley departamental', '0.813381'),\n",
              "  ('ley ley departamental', '0.660806'),\n",
              "  ('periodo legislativo', '0.631729')],\n",
              " [{'label': '/law, govt and politics/government', 'score': 0.85222},\n",
              "  {'label': '/law, govt and politics/government/legislative',\n",
              "   'score': 0.845941},\n",
              "  {'label': '/law, govt and politics/government/parliament',\n",
              "   'score': 0.729781}]]"
            ]
          },
          "metadata": {
            "tags": []
          },
          "execution_count": 107
        }
      ]
    },
    {
      "cell_type": "code",
      "metadata": {
        "id": "DbUMc5uCo1o0",
        "colab_type": "code",
        "colab": {
          "base_uri": "https://localhost:8080/",
          "height": 125
        },
        "outputId": "022d08dd-ea8a-4dfd-c1fd-4ae40928665e"
      },
      "source": [
        "watson75['output_watson'][10]"
      ],
      "execution_count": 108,
      "outputs": [
        {
          "output_type": "execute_result",
          "data": {
            "text/plain": [
              "[[('decreto departamental felix', '0.829535'),\n",
              "  ('gobiernos departamentales', '0.717856'),\n",
              "  ('autonomos jurisdiccion', '0.649457')],\n",
              " [{'label': '/law, govt and politics', 'score': 0.849727},\n",
              "  {'label': '/travel/tourist facilities', 'score': 0.770399},\n",
              "  {'label': '/style and fashion/body art', 'score': 0.764784}]]"
            ]
          },
          "metadata": {
            "tags": []
          },
          "execution_count": 108
        }
      ]
    },
    {
      "cell_type": "code",
      "metadata": {
        "id": "RdYChDDdpAqN",
        "colab_type": "code",
        "colab": {
          "base_uri": "https://localhost:8080/",
          "height": 143
        },
        "outputId": "629e8081-bd05-4038-c2cd-ffa6a0b452c1"
      },
      "source": [
        "watson75['output_watson'][53]"
      ],
      "execution_count": 109,
      "outputs": [
        {
          "output_type": "execute_result",
          "data": {
            "text/plain": [
              "[[('exposicion motivos constitucion', '0.718246'),\n",
              "  ('ley municipal', '0.68935'),\n",
              "  ('alcalde municipal', '0.645381')],\n",
              " [{'label': '/law, govt and politics/government', 'score': 0.966185},\n",
              "  {'label': '/law, govt and politics/government/parliament',\n",
              "   'score': 0.866914},\n",
              "  {'label': '/law, govt and politics/politics', 'score': 0.827719}]]"
            ]
          },
          "metadata": {
            "tags": []
          },
          "execution_count": 109
        }
      ]
    },
    {
      "cell_type": "markdown",
      "metadata": {
        "id": "SfJxYzfqtyGR",
        "colab_type": "text"
      },
      "source": [
        "### Exportación del dataframe resultado a un archivo pickle final"
      ]
    },
    {
      "cell_type": "code",
      "metadata": {
        "colab_type": "code",
        "id": "aLB8_mp7t8-h",
        "colab": {}
      },
      "source": [
        "watson75.to_pickle(\"watson_result.pkl\")"
      ],
      "execution_count": 0,
      "outputs": []
    }
  ]
}